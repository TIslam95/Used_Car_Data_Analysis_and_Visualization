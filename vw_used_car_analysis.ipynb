{
 "cells": [
  {
   "cell_type": "markdown",
   "id": "d0ab9e98",
   "metadata": {},
   "source": [
    "## Volkswagen Used Car Analysis"
   ]
  },
  {
   "cell_type": "markdown",
   "id": "3cea7ecc",
   "metadata": {},
   "source": [
    "**Author:\n",
    "<br> Md. Tariqul Islam\n",
    "<br> B.Sc. Civil Engg. (KUET)**"
   ]
  },
  {
   "cell_type": "markdown",
   "id": "53938e4f",
   "metadata": {},
   "source": [
    "In this notebook, we are working on part of a kaggle dataset containing used car information in the US for a total of 7 brands namely Audi, BMW, Skoda, Ford, Volkswagen, Toyota and Hyundai.\n",
    "(*Dataset Source:* https://www.kaggle.com/aishwaryamuthukumar/cars-dataset-audi-bmw-ford-hyundai-skoda-vw)\n",
    "\n",
    "<br>We will be performing Exploratory Data Analysis (EDA) on the used car data for a particular brand, namely Volkswagen, present in this dataset and try to visualize and answer some questions about this data."
   ]
  },
  {
   "cell_type": "markdown",
   "id": "654f58e2",
   "metadata": {},
   "source": [
    "### Import Required Libraries"
   ]
  },
  {
   "cell_type": "markdown",
   "id": "c1266439",
   "metadata": {},
   "source": [
    "As mentioned above, we will be performing data analysis and visualization on our dataset. Hence we will require the following libraries to be imported into our notebook.\n",
    "- `pandas` for data analysis\n",
    "- `matplotlib.pyplot` and `seaborn` for data visualization\n",
    "\n",
    "The following lines of codes will import the required libraries mentioned above."
   ]
  },
  {
   "cell_type": "code",
   "execution_count": 1,
   "id": "53776b77",
   "metadata": {},
   "outputs": [],
   "source": [
    "# Import Libraries Data Analysis and Numerical Operations\n",
    "import pandas as pd\n",
    "\n",
    "# Import Libraries for Visualization\n",
    "import matplotlib.pyplot as plt\n",
    "import seaborn as sns"
   ]
  },
  {
   "cell_type": "markdown",
   "id": "b19ddbd2",
   "metadata": {},
   "source": [
    "### Import the Dataset"
   ]
  },
  {
   "cell_type": "markdown",
   "id": "3a193376",
   "metadata": {},
   "source": [
    "The next step will be importing our data into the notebook. The filtered data from the original dataset, containing only the information on the Volkswagen brand cars, are saved as a CSV file named `vw.csv`. We can use the `pandas.read_csv()` function to import this data in our notebook as a pandas dataframe object."
   ]
  },
  {
   "cell_type": "code",
   "execution_count": 2,
   "id": "28762bff",
   "metadata": {},
   "outputs": [],
   "source": [
    "# Import data from a CSV file\n",
    "df = pd.read_csv(\"vw.csv\")"
   ]
  },
  {
   "cell_type": "markdown",
   "id": "fac0ceed",
   "metadata": {},
   "source": [
    "### Explore the Data"
   ]
  },
  {
   "cell_type": "markdown",
   "id": "25dab0c4",
   "metadata": {},
   "source": [
    "It is a good practice to explore the newly imported data and get familiar with every aspects of the dataset before diving into any data analysis operations. Spending a little extra time to understand the data in hand is always helpful in the long run for any data analysis related tasks."
   ]
  },
  {
   "cell_type": "markdown",
   "id": "b1c76a76",
   "metadata": {},
   "source": [
    "The simplest way of getting a good look at our data is to display the dataframe using the `display()` comamand."
   ]
  },
  {
   "cell_type": "code",
   "execution_count": 3,
   "id": "6910a7c1",
   "metadata": {},
   "outputs": [
    {
     "data": {
      "text/html": [
       "<div>\n",
       "<style scoped>\n",
       "    .dataframe tbody tr th:only-of-type {\n",
       "        vertical-align: middle;\n",
       "    }\n",
       "\n",
       "    .dataframe tbody tr th {\n",
       "        vertical-align: top;\n",
       "    }\n",
       "\n",
       "    .dataframe thead th {\n",
       "        text-align: right;\n",
       "    }\n",
       "</style>\n",
       "<table border=\"1\" class=\"dataframe\">\n",
       "  <thead>\n",
       "    <tr style=\"text-align: right;\">\n",
       "      <th></th>\n",
       "      <th>model</th>\n",
       "      <th>year</th>\n",
       "      <th>price</th>\n",
       "      <th>transmission</th>\n",
       "      <th>mileage</th>\n",
       "      <th>fuelType</th>\n",
       "      <th>mpg</th>\n",
       "      <th>engineSize</th>\n",
       "    </tr>\n",
       "  </thead>\n",
       "  <tbody>\n",
       "    <tr>\n",
       "      <th>0</th>\n",
       "      <td>T-Roc</td>\n",
       "      <td>2019</td>\n",
       "      <td>25000</td>\n",
       "      <td>Automatic</td>\n",
       "      <td>13904</td>\n",
       "      <td>Diesel</td>\n",
       "      <td>49.6</td>\n",
       "      <td>2.0</td>\n",
       "    </tr>\n",
       "    <tr>\n",
       "      <th>1</th>\n",
       "      <td>T-Roc</td>\n",
       "      <td>2019</td>\n",
       "      <td>26883</td>\n",
       "      <td>Automatic</td>\n",
       "      <td>4562</td>\n",
       "      <td>Diesel</td>\n",
       "      <td>49.6</td>\n",
       "      <td>2.0</td>\n",
       "    </tr>\n",
       "    <tr>\n",
       "      <th>2</th>\n",
       "      <td>T-Roc</td>\n",
       "      <td>2019</td>\n",
       "      <td>20000</td>\n",
       "      <td>Manual</td>\n",
       "      <td>7414</td>\n",
       "      <td>Diesel</td>\n",
       "      <td>50.4</td>\n",
       "      <td>2.0</td>\n",
       "    </tr>\n",
       "    <tr>\n",
       "      <th>3</th>\n",
       "      <td>T-Roc</td>\n",
       "      <td>2019</td>\n",
       "      <td>33492</td>\n",
       "      <td>Automatic</td>\n",
       "      <td>4825</td>\n",
       "      <td>Petrol</td>\n",
       "      <td>32.5</td>\n",
       "      <td>2.0</td>\n",
       "    </tr>\n",
       "    <tr>\n",
       "      <th>4</th>\n",
       "      <td>T-Roc</td>\n",
       "      <td>2019</td>\n",
       "      <td>22900</td>\n",
       "      <td>Semi-Auto</td>\n",
       "      <td>6500</td>\n",
       "      <td>Petrol</td>\n",
       "      <td>39.8</td>\n",
       "      <td>1.5</td>\n",
       "    </tr>\n",
       "    <tr>\n",
       "      <th>...</th>\n",
       "      <td>...</td>\n",
       "      <td>...</td>\n",
       "      <td>...</td>\n",
       "      <td>...</td>\n",
       "      <td>...</td>\n",
       "      <td>...</td>\n",
       "      <td>...</td>\n",
       "      <td>...</td>\n",
       "    </tr>\n",
       "    <tr>\n",
       "      <th>15152</th>\n",
       "      <td>Eos</td>\n",
       "      <td>2012</td>\n",
       "      <td>5990</td>\n",
       "      <td>Manual</td>\n",
       "      <td>74000</td>\n",
       "      <td>Diesel</td>\n",
       "      <td>58.9</td>\n",
       "      <td>2.0</td>\n",
       "    </tr>\n",
       "    <tr>\n",
       "      <th>15153</th>\n",
       "      <td>Fox</td>\n",
       "      <td>2008</td>\n",
       "      <td>1799</td>\n",
       "      <td>Manual</td>\n",
       "      <td>88102</td>\n",
       "      <td>Petrol</td>\n",
       "      <td>46.3</td>\n",
       "      <td>1.2</td>\n",
       "    </tr>\n",
       "    <tr>\n",
       "      <th>15154</th>\n",
       "      <td>Fox</td>\n",
       "      <td>2009</td>\n",
       "      <td>1590</td>\n",
       "      <td>Manual</td>\n",
       "      <td>70000</td>\n",
       "      <td>Petrol</td>\n",
       "      <td>42.0</td>\n",
       "      <td>1.4</td>\n",
       "    </tr>\n",
       "    <tr>\n",
       "      <th>15155</th>\n",
       "      <td>Fox</td>\n",
       "      <td>2006</td>\n",
       "      <td>1250</td>\n",
       "      <td>Manual</td>\n",
       "      <td>82704</td>\n",
       "      <td>Petrol</td>\n",
       "      <td>46.3</td>\n",
       "      <td>1.2</td>\n",
       "    </tr>\n",
       "    <tr>\n",
       "      <th>15156</th>\n",
       "      <td>Fox</td>\n",
       "      <td>2007</td>\n",
       "      <td>2295</td>\n",
       "      <td>Manual</td>\n",
       "      <td>74000</td>\n",
       "      <td>Petrol</td>\n",
       "      <td>46.3</td>\n",
       "      <td>1.2</td>\n",
       "    </tr>\n",
       "  </tbody>\n",
       "</table>\n",
       "<p>15157 rows × 8 columns</p>\n",
       "</div>"
      ],
      "text/plain": [
       "        model  year  price transmission  mileage fuelType   mpg  engineSize\n",
       "0       T-Roc  2019  25000    Automatic    13904   Diesel  49.6         2.0\n",
       "1       T-Roc  2019  26883    Automatic     4562   Diesel  49.6         2.0\n",
       "2       T-Roc  2019  20000       Manual     7414   Diesel  50.4         2.0\n",
       "3       T-Roc  2019  33492    Automatic     4825   Petrol  32.5         2.0\n",
       "4       T-Roc  2019  22900    Semi-Auto     6500   Petrol  39.8         1.5\n",
       "...       ...   ...    ...          ...      ...      ...   ...         ...\n",
       "15152     Eos  2012   5990       Manual    74000   Diesel  58.9         2.0\n",
       "15153     Fox  2008   1799       Manual    88102   Petrol  46.3         1.2\n",
       "15154     Fox  2009   1590       Manual    70000   Petrol  42.0         1.4\n",
       "15155     Fox  2006   1250       Manual    82704   Petrol  46.3         1.2\n",
       "15156     Fox  2007   2295       Manual    74000   Petrol  46.3         1.2\n",
       "\n",
       "[15157 rows x 8 columns]"
      ]
     },
     "metadata": {},
     "output_type": "display_data"
    }
   ],
   "source": [
    "# Display the dataframe\n",
    "display(df)"
   ]
  },
  {
   "cell_type": "markdown",
   "id": "3b5faf02",
   "metadata": {},
   "source": [
    "We can readily see the first and last few rows of our dataset along with a summary at the bottom stating that the dataset consists of 15157 rows  and 8 columns. That means our dataset for used Volkswagen cars contains a total of 15157 observations and 8 features for the observations."
   ]
  },
  {
   "cell_type": "markdown",
   "id": "8f8c12fd",
   "metadata": {},
   "source": [
    "Next we can display the dataframe information to get a summary of the features and their datatypes along with some other informations."
   ]
  },
  {
   "cell_type": "code",
   "execution_count": 4,
   "id": "8dde1d19",
   "metadata": {},
   "outputs": [
    {
     "name": "stdout",
     "output_type": "stream",
     "text": [
      "<class 'pandas.core.frame.DataFrame'>\n",
      "RangeIndex: 15157 entries, 0 to 15156\n",
      "Data columns (total 8 columns):\n",
      " #   Column        Non-Null Count  Dtype  \n",
      "---  ------        --------------  -----  \n",
      " 0   model         15157 non-null  object \n",
      " 1   year          15157 non-null  int64  \n",
      " 2   price         15157 non-null  int64  \n",
      " 3   transmission  15157 non-null  object \n",
      " 4   mileage       15157 non-null  int64  \n",
      " 5   fuelType      15157 non-null  object \n",
      " 6   mpg           15157 non-null  float64\n",
      " 7   engineSize    15157 non-null  float64\n",
      "dtypes: float64(2), int64(3), object(3)\n",
      "memory usage: 947.4+ KB\n"
     ]
    }
   ],
   "source": [
    "# Display Dataframe Information\n",
    "df.info()"
   ]
  },
  {
   "cell_type": "markdown",
   "id": "48119bfa",
   "metadata": {},
   "source": [
    "We can see that among the 8 features contained in the dataset, 5 are in numerical formats and the other 3 are in string format. Also there are no missing values in any of the features in this dataframe, so no data cleaning operations are required."
   ]
  },
  {
   "cell_type": "markdown",
   "id": "664a9993",
   "metadata": {},
   "source": [
    "### Explain the features"
   ]
  },
  {
   "cell_type": "markdown",
   "id": "b367f018",
   "metadata": {},
   "source": [
    "Now we can get familiarized with the features contained in this dataframe to get a better understanding of the dataset. The 8 features contained in the dataframe are:\n",
    "- `model` : Name of the model of the car in observation\n",
    "- `year` : The making year of the car in observation\n",
    "- `price` : The resale price, in US Dollars, of the car in observation\n",
    "- `transmission` : The transmission system used in the car in observation\n",
    "- `mileage` : Total number of miles run by the car at the time the study.\n",
    "- `fuelType` : Type of fuel used by the car\n",
    "- `mpg` : Number of miles output per galon of fuel\n",
    "- `engineSize` : The volume of fuel and air that can be pushed through car's cylinders\n",
    "\n",
    "Now that we have a better understanding of the features present in the dataset, we can set out to develop our Exploratory Data Analysis."
   ]
  },
  {
   "cell_type": "markdown",
   "id": "a9445f6b",
   "metadata": {},
   "source": [
    "### Set up the Goals"
   ]
  },
  {
   "cell_type": "markdown",
   "id": "858f8b53",
   "metadata": {},
   "source": [
    "The first step of any exploratory data analysis is to observe the data and set up the goal i.e. some questions to be answered from the data. These questions and the process of finding their answers depends solely on the dataset and what it represents. That's why an in-depth understanding of the dataset is crucial for any EDA problem."
   ]
  },
  {
   "cell_type": "markdown",
   "id": "0dc0c1a4",
   "metadata": {},
   "source": [
    "We have already observed our data and introduced the features present in the dataset. We know, from the above descriptions, that our dataset consists of a total 8 features which can be classified as categorical and numerical as follows.\n",
    "- Categorical features\n",
    "    - `model`\n",
    "    - `year`\n",
    "    - `transmission`\n",
    "    - `fueldType`\n",
    "- Numerical features\n",
    "    - `price`\n",
    "    - `mileage`\n",
    "    - `mpg`\n",
    "    - `engineSize`"
   ]
  },
  {
   "cell_type": "markdown",
   "id": "2933050b",
   "metadata": {},
   "source": [
    "It can easily be understood from the dataset that the most important feature in this dataset is the `price` of a car which is dependant on the other seven features present in this dataset and can be identified as the **target feature** of our exploratory data analysis.\n",
    "\n",
    "As the `price` feature is a numerical variable, we can set out to find some very common numerical statistics of this feature such as the *maximum*, *minimum*, *average*, *total*, etc."
   ]
  },
  {
   "cell_type": "markdown",
   "id": "6353df13",
   "metadata": {},
   "source": [
    "As mentioned earlier, the `price`  feature is dependant on the other features of this dataset. But a thorough observation will reveal that the value of this features is more dependant on the three categorical features namely the `model`, `transmission` and `fuelType` than the other variables which are less significant compared to these three.\n",
    "\n",
    "So, we can take these three categorical features as our control features and individually find out the top values, average selling prices, and total sale of the feature in question."
   ]
  },
  {
   "cell_type": "markdown",
   "id": "28cccf91",
   "metadata": {},
   "source": [
    "Although we can find out the answers to these questions in numerous ways, the best approach for this task will be to perform the EDA and visually represent the answers to the questions using barplots."
   ]
  },
  {
   "cell_type": "markdown",
   "id": "302d4fa6",
   "metadata": {},
   "source": [
    "Hence, our goal is to perform Exploratory data analysis based on `model`, `transmission` and `fuelType`, and create barplots answering the following questions\n",
    "- Top 5 selling values of the feature in question\n",
    "- Average selling price for the top 5 values of the features\n",
    "- Total sales price for the top 5 values of the features"
   ]
  },
  {
   "cell_type": "markdown",
   "id": "dd9b3320",
   "metadata": {},
   "source": [
    "### Set up the Analysis Steps"
   ]
  },
  {
   "cell_type": "markdown",
   "id": "4fb9f0e5",
   "metadata": {},
   "source": [
    "The next step after setting up the analysis goals is to set up the analysis steps for achieveing that goals. Our goal is to answer the three questions above and create barplots individually based on three controlling features, namely the `model`, `transmission` and `fuelType`. We can follow the steps listed below to achieve this goal.\n",
    "- Group the data in a new dataframe based on the values of the controlling feature in consideration using the `dataframe.groupby()` or the `pandas.pivot_table()` commands.\n",
    "- Use the appropriate data aggregation feature for the method used above to generate the required values for answering the questions. The values to be aggregated are as follows.\n",
    "    - `count` for determining the top values\n",
    "    - `mean` for determining the average sales price\n",
    "    - `sum` for determining the total sales\n",
    "- Perform any data preprocessing operations required before the visualization.\n",
    "- Create barplots with appropriate formatting and labeling applied"
   ]
  },
  {
   "cell_type": "markdown",
   "id": "072b408c",
   "metadata": {},
   "source": [
    "#### Aggregate the data in new dataframes"
   ]
  },
  {
   "cell_type": "markdown",
   "id": "d39c7970",
   "metadata": {},
   "source": [
    "We will use the `dataframe.groupby()` method for data aggregation and create three new dataframes with the data aggregated into them based on the three control features stated above."
   ]
  },
  {
   "cell_type": "code",
   "execution_count": 5,
   "id": "49c25800",
   "metadata": {},
   "outputs": [
    {
     "data": {
      "text/html": [
       "<div>\n",
       "<style scoped>\n",
       "    .dataframe tbody tr th:only-of-type {\n",
       "        vertical-align: middle;\n",
       "    }\n",
       "\n",
       "    .dataframe tbody tr th {\n",
       "        vertical-align: top;\n",
       "    }\n",
       "\n",
       "    .dataframe thead tr th {\n",
       "        text-align: left;\n",
       "    }\n",
       "\n",
       "    .dataframe thead tr:last-of-type th {\n",
       "        text-align: right;\n",
       "    }\n",
       "</style>\n",
       "<table border=\"1\" class=\"dataframe\">\n",
       "  <thead>\n",
       "    <tr>\n",
       "      <th></th>\n",
       "      <th>count</th>\n",
       "      <th>mean</th>\n",
       "      <th>sum</th>\n",
       "    </tr>\n",
       "    <tr>\n",
       "      <th></th>\n",
       "      <th>price</th>\n",
       "      <th>price</th>\n",
       "      <th>price</th>\n",
       "    </tr>\n",
       "    <tr>\n",
       "      <th>model</th>\n",
       "      <th></th>\n",
       "      <th></th>\n",
       "      <th></th>\n",
       "    </tr>\n",
       "  </thead>\n",
       "  <tbody>\n",
       "    <tr>\n",
       "      <th>Amarok</th>\n",
       "      <td>111</td>\n",
       "      <td>27991.495495</td>\n",
       "      <td>3107056</td>\n",
       "    </tr>\n",
       "    <tr>\n",
       "      <th>Arteon</th>\n",
       "      <td>248</td>\n",
       "      <td>26285.020161</td>\n",
       "      <td>6518685</td>\n",
       "    </tr>\n",
       "    <tr>\n",
       "      <th>Beetle</th>\n",
       "      <td>83</td>\n",
       "      <td>9881.638554</td>\n",
       "      <td>820176</td>\n",
       "    </tr>\n",
       "    <tr>\n",
       "      <th>CC</th>\n",
       "      <td>95</td>\n",
       "      <td>10645.642105</td>\n",
       "      <td>1011336</td>\n",
       "    </tr>\n",
       "    <tr>\n",
       "      <th>Caddy</th>\n",
       "      <td>6</td>\n",
       "      <td>12844.000000</td>\n",
       "      <td>77064</td>\n",
       "    </tr>\n",
       "    <tr>\n",
       "      <th>Caddy Life</th>\n",
       "      <td>8</td>\n",
       "      <td>17432.875000</td>\n",
       "      <td>139463</td>\n",
       "    </tr>\n",
       "    <tr>\n",
       "      <th>Caddy Maxi</th>\n",
       "      <td>4</td>\n",
       "      <td>11472.250000</td>\n",
       "      <td>45889</td>\n",
       "    </tr>\n",
       "    <tr>\n",
       "      <th>Caddy Maxi Life</th>\n",
       "      <td>59</td>\n",
       "      <td>19103.118644</td>\n",
       "      <td>1127084</td>\n",
       "    </tr>\n",
       "    <tr>\n",
       "      <th>California</th>\n",
       "      <td>15</td>\n",
       "      <td>57593.866667</td>\n",
       "      <td>863908</td>\n",
       "    </tr>\n",
       "    <tr>\n",
       "      <th>Caravelle</th>\n",
       "      <td>101</td>\n",
       "      <td>39325.663366</td>\n",
       "      <td>3971892</td>\n",
       "    </tr>\n",
       "  </tbody>\n",
       "</table>\n",
       "</div>"
      ],
      "text/plain": [
       "                 count          mean      sum\n",
       "                 price         price    price\n",
       "model                                        \n",
       " Amarok            111  27991.495495  3107056\n",
       " Arteon            248  26285.020161  6518685\n",
       " Beetle             83   9881.638554   820176\n",
       " CC                 95  10645.642105  1011336\n",
       " Caddy               6  12844.000000    77064\n",
       " Caddy Life          8  17432.875000   139463\n",
       " Caddy Maxi          4  11472.250000    45889\n",
       " Caddy Maxi Life    59  19103.118644  1127084\n",
       " California         15  57593.866667   863908\n",
       " Caravelle         101  39325.663366  3971892"
      ]
     },
     "metadata": {},
     "output_type": "display_data"
    }
   ],
   "source": [
    "# Aggregate the data into a new dataframe based on `model`\n",
    "df_model = pd.pivot_table(df, index = \"model\", values = \"price\", aggfunc = ['count', 'mean', 'sum'])\n",
    "\n",
    "# Display the result\n",
    "display(df_model.head(10))"
   ]
  },
  {
   "cell_type": "code",
   "execution_count": 6,
   "id": "538151a3",
   "metadata": {},
   "outputs": [
    {
     "data": {
      "text/html": [
       "<div>\n",
       "<style scoped>\n",
       "    .dataframe tbody tr th:only-of-type {\n",
       "        vertical-align: middle;\n",
       "    }\n",
       "\n",
       "    .dataframe tbody tr th {\n",
       "        vertical-align: top;\n",
       "    }\n",
       "\n",
       "    .dataframe thead tr th {\n",
       "        text-align: left;\n",
       "    }\n",
       "\n",
       "    .dataframe thead tr:last-of-type th {\n",
       "        text-align: right;\n",
       "    }\n",
       "</style>\n",
       "<table border=\"1\" class=\"dataframe\">\n",
       "  <thead>\n",
       "    <tr>\n",
       "      <th></th>\n",
       "      <th>count</th>\n",
       "      <th>mean</th>\n",
       "      <th>sum</th>\n",
       "    </tr>\n",
       "    <tr>\n",
       "      <th></th>\n",
       "      <th>price</th>\n",
       "      <th>price</th>\n",
       "      <th>price</th>\n",
       "    </tr>\n",
       "    <tr>\n",
       "      <th>transmission</th>\n",
       "      <th></th>\n",
       "      <th></th>\n",
       "      <th></th>\n",
       "    </tr>\n",
       "  </thead>\n",
       "  <tbody>\n",
       "    <tr>\n",
       "      <th>Automatic</th>\n",
       "      <td>1960</td>\n",
       "      <td>22589.528061</td>\n",
       "      <td>44275475</td>\n",
       "    </tr>\n",
       "    <tr>\n",
       "      <th>Manual</th>\n",
       "      <td>9417</td>\n",
       "      <td>13709.165552</td>\n",
       "      <td>129099212</td>\n",
       "    </tr>\n",
       "    <tr>\n",
       "      <th>Semi-Auto</th>\n",
       "      <td>3780</td>\n",
       "      <td>21654.315873</td>\n",
       "      <td>81853314</td>\n",
       "    </tr>\n",
       "  </tbody>\n",
       "</table>\n",
       "</div>"
      ],
      "text/plain": [
       "             count          mean        sum\n",
       "             price         price      price\n",
       "transmission                               \n",
       "Automatic     1960  22589.528061   44275475\n",
       "Manual        9417  13709.165552  129099212\n",
       "Semi-Auto     3780  21654.315873   81853314"
      ]
     },
     "metadata": {},
     "output_type": "display_data"
    }
   ],
   "source": [
    "# Aggregate the data into a new dataframe based on `transmission`\n",
    "df_transmission = pd.pivot_table(df, index = \"transmission\", values = \"price\", aggfunc = ['count', 'mean', 'sum'])\n",
    "\n",
    "# Display the result\n",
    "display(df_transmission)"
   ]
  },
  {
   "cell_type": "code",
   "execution_count": 7,
   "id": "5f7af06b",
   "metadata": {},
   "outputs": [
    {
     "data": {
      "text/html": [
       "<div>\n",
       "<style scoped>\n",
       "    .dataframe tbody tr th:only-of-type {\n",
       "        vertical-align: middle;\n",
       "    }\n",
       "\n",
       "    .dataframe tbody tr th {\n",
       "        vertical-align: top;\n",
       "    }\n",
       "\n",
       "    .dataframe thead tr th {\n",
       "        text-align: left;\n",
       "    }\n",
       "\n",
       "    .dataframe thead tr:last-of-type th {\n",
       "        text-align: right;\n",
       "    }\n",
       "</style>\n",
       "<table border=\"1\" class=\"dataframe\">\n",
       "  <thead>\n",
       "    <tr>\n",
       "      <th></th>\n",
       "      <th>count</th>\n",
       "      <th>mean</th>\n",
       "      <th>sum</th>\n",
       "    </tr>\n",
       "    <tr>\n",
       "      <th></th>\n",
       "      <th>price</th>\n",
       "      <th>price</th>\n",
       "      <th>price</th>\n",
       "    </tr>\n",
       "    <tr>\n",
       "      <th>fuelType</th>\n",
       "      <th></th>\n",
       "      <th></th>\n",
       "      <th></th>\n",
       "    </tr>\n",
       "  </thead>\n",
       "  <tbody>\n",
       "    <tr>\n",
       "      <th>Diesel</th>\n",
       "      <td>6372</td>\n",
       "      <td>18821.653798</td>\n",
       "      <td>119931578</td>\n",
       "    </tr>\n",
       "    <tr>\n",
       "      <th>Hybrid</th>\n",
       "      <td>145</td>\n",
       "      <td>24458.448276</td>\n",
       "      <td>3546475</td>\n",
       "    </tr>\n",
       "    <tr>\n",
       "      <th>Other</th>\n",
       "      <td>87</td>\n",
       "      <td>21269.494253</td>\n",
       "      <td>1850446</td>\n",
       "    </tr>\n",
       "    <tr>\n",
       "      <th>Petrol</th>\n",
       "      <td>8553</td>\n",
       "      <td>15187.595230</td>\n",
       "      <td>129899502</td>\n",
       "    </tr>\n",
       "  </tbody>\n",
       "</table>\n",
       "</div>"
      ],
      "text/plain": [
       "         count          mean        sum\n",
       "         price         price      price\n",
       "fuelType                               \n",
       "Diesel    6372  18821.653798  119931578\n",
       "Hybrid     145  24458.448276    3546475\n",
       "Other       87  21269.494253    1850446\n",
       "Petrol    8553  15187.595230  129899502"
      ]
     },
     "metadata": {},
     "output_type": "display_data"
    }
   ],
   "source": [
    "# Aggregate the data into a new dataframe based on `fuelType`\n",
    "df_fuelType = pd.pivot_table(df, index = \"fuelType\", values = \"price\", aggfunc = ['count', 'mean', 'sum'])\n",
    "\n",
    "# Display the result\n",
    "display(df_fuelType)"
   ]
  },
  {
   "cell_type": "markdown",
   "id": "adcfe847",
   "metadata": {},
   "source": [
    "As we can see above, our data have been aggregated into three new dataframes as expected. But if we display the column names for any of the dataframes, we will see that each of the column names are formated as tuples."
   ]
  },
  {
   "cell_type": "code",
   "execution_count": 8,
   "id": "05879944",
   "metadata": {},
   "outputs": [
    {
     "data": {
      "text/plain": [
       "MultiIndex([('count', 'price'),\n",
       "            ( 'mean', 'price'),\n",
       "            (  'sum', 'price')],\n",
       "           )"
      ]
     },
     "metadata": {},
     "output_type": "display_data"
    }
   ],
   "source": [
    "# Display Dataframe column names\n",
    "display(df_model.columns)"
   ]
  },
  {
   "cell_type": "markdown",
   "id": "8c101e93",
   "metadata": {},
   "source": [
    "Here it says that the columns are `MultiIndex` instead of `Index` and the column names are indexed as tuples. We need to change the column names for each of the dataframes to make further analyses easier."
   ]
  },
  {
   "cell_type": "code",
   "execution_count": 9,
   "id": "2ba5e9aa",
   "metadata": {},
   "outputs": [
    {
     "data": {
      "text/plain": [
       "Index(['count', 'mean', 'sum'], dtype='object')"
      ]
     },
     "metadata": {},
     "output_type": "display_data"
    },
    {
     "data": {
      "text/plain": [
       "Index(['count', 'mean', 'sum'], dtype='object')"
      ]
     },
     "metadata": {},
     "output_type": "display_data"
    },
    {
     "data": {
      "text/plain": [
       "Index(['count', 'mean', 'sum'], dtype='object')"
      ]
     },
     "metadata": {},
     "output_type": "display_data"
    }
   ],
   "source": [
    "# Change the column names\n",
    "df_model.columns = ['count', 'mean', 'sum']\n",
    "df_transmission.columns = ['count', 'mean', 'sum']\n",
    "df_fuelType.columns = ['count', 'mean', 'sum']\n",
    "\n",
    "# Display the column names\n",
    "display(df_model.columns)\n",
    "display(df_transmission.columns)\n",
    "display(df_fuelType.columns)"
   ]
  },
  {
   "cell_type": "markdown",
   "id": "505061b9",
   "metadata": {},
   "source": [
    "Now we can see that the column names are now in more easily accessible formats."
   ]
  },
  {
   "cell_type": "markdown",
   "id": "0192d29c",
   "metadata": {},
   "source": [
    "#### Data Pre-Processing for Visualization"
   ]
  },
  {
   "cell_type": "markdown",
   "id": "c9c945fc",
   "metadata": {},
   "source": [
    "Let us first display the `df_transmission` dataframe and analyze the values to determine the required data pre-processing operations."
   ]
  },
  {
   "cell_type": "code",
   "execution_count": 10,
   "id": "460cf959",
   "metadata": {},
   "outputs": [
    {
     "data": {
      "text/html": [
       "<div>\n",
       "<style scoped>\n",
       "    .dataframe tbody tr th:only-of-type {\n",
       "        vertical-align: middle;\n",
       "    }\n",
       "\n",
       "    .dataframe tbody tr th {\n",
       "        vertical-align: top;\n",
       "    }\n",
       "\n",
       "    .dataframe thead th {\n",
       "        text-align: right;\n",
       "    }\n",
       "</style>\n",
       "<table border=\"1\" class=\"dataframe\">\n",
       "  <thead>\n",
       "    <tr style=\"text-align: right;\">\n",
       "      <th></th>\n",
       "      <th>count</th>\n",
       "      <th>mean</th>\n",
       "      <th>sum</th>\n",
       "    </tr>\n",
       "    <tr>\n",
       "      <th>transmission</th>\n",
       "      <th></th>\n",
       "      <th></th>\n",
       "      <th></th>\n",
       "    </tr>\n",
       "  </thead>\n",
       "  <tbody>\n",
       "    <tr>\n",
       "      <th>Automatic</th>\n",
       "      <td>1960</td>\n",
       "      <td>22589.528061</td>\n",
       "      <td>44275475</td>\n",
       "    </tr>\n",
       "    <tr>\n",
       "      <th>Manual</th>\n",
       "      <td>9417</td>\n",
       "      <td>13709.165552</td>\n",
       "      <td>129099212</td>\n",
       "    </tr>\n",
       "    <tr>\n",
       "      <th>Semi-Auto</th>\n",
       "      <td>3780</td>\n",
       "      <td>21654.315873</td>\n",
       "      <td>81853314</td>\n",
       "    </tr>\n",
       "  </tbody>\n",
       "</table>\n",
       "</div>"
      ],
      "text/plain": [
       "              count          mean        sum\n",
       "transmission                                \n",
       "Automatic      1960  22589.528061   44275475\n",
       "Manual         9417  13709.165552  129099212\n",
       "Semi-Auto      3780  21654.315873   81853314"
      ]
     },
     "metadata": {},
     "output_type": "display_data"
    }
   ],
   "source": [
    "# Display Dataframe\n",
    "display(df_transmission)"
   ]
  },
  {
   "cell_type": "markdown",
   "id": "7ac26dc8",
   "metadata": {},
   "source": [
    "Upon inspection of the dataframed displayed above, we can find the required data pre-processing required before visualization as listed below.\n",
    "1. Displaying the top values of the features as a percentage of the total is more suitable and easily comparable instead of displaying the actual value counts as shown above. So we need to create a new column named `percentage` and calculate the percentage of the `count` values in each row for visualization purpose. Then we can drop the `count` column as we will no longer be needing the count values.\n",
    "2. The values in the `mean` column are showing too many digits after the decimal point. We can round the values to two decimal points for better visualization.\n",
    "3. The values in the `sum` column are too large for visualization. We can convert them to *Million Dollars* instead of *Dollars* before performing the visualization.\n",
    "4. Sort the dataframe in descending order based on the values in the `percentage` column"
   ]
  },
  {
   "cell_type": "markdown",
   "id": "b7e7f576",
   "metadata": {},
   "source": [
    "Since the pre-processing steps will be the same for all three of the dataframes, we can combine them into a function and apply the function to the dataframes."
   ]
  },
  {
   "cell_type": "markdown",
   "id": "58b9ef0b",
   "metadata": {},
   "source": [
    "##### Create a Function for Data Pre-Processing"
   ]
  },
  {
   "cell_type": "code",
   "execution_count": 11,
   "id": "2c4c27eb",
   "metadata": {},
   "outputs": [],
   "source": [
    "def preProcess(dataframe):\n",
    "    # Create a percentage column\n",
    "    dataframe['percentage'] = (dataframe['count']/dataframe['count'].sum())*100\n",
    "       \n",
    "    # Remove the count column\n",
    "    dataframe.drop('count', axis = 1, inplace = True)\n",
    "   \n",
    "    # Convert the sum values into millions\n",
    "    dataframe['sum'] = dataframe['sum']/1000000\n",
    "    \n",
    "    # Round the dataframe values to two decimal points\n",
    "    dataframe.update(dataframe.round(2))\n",
    "    \n",
    "    # Sort the dataframe based on percentage column\n",
    "    dataframe.sort_values(by = 'percentage', ascending = False, inplace = True)\n",
    "    \n",
    "    # Display the Dataframe\n",
    "    display(dataframe.head())"
   ]
  },
  {
   "cell_type": "markdown",
   "id": "7a3fe6a5",
   "metadata": {},
   "source": [
    "Now we can apply this function to all our dataframes by passing the dataframe names as the function argument individually and see the results below."
   ]
  },
  {
   "cell_type": "code",
   "execution_count": 12,
   "id": "5e72a7ed",
   "metadata": {},
   "outputs": [
    {
     "data": {
      "text/html": [
       "<div>\n",
       "<style scoped>\n",
       "    .dataframe tbody tr th:only-of-type {\n",
       "        vertical-align: middle;\n",
       "    }\n",
       "\n",
       "    .dataframe tbody tr th {\n",
       "        vertical-align: top;\n",
       "    }\n",
       "\n",
       "    .dataframe thead th {\n",
       "        text-align: right;\n",
       "    }\n",
       "</style>\n",
       "<table border=\"1\" class=\"dataframe\">\n",
       "  <thead>\n",
       "    <tr style=\"text-align: right;\">\n",
       "      <th></th>\n",
       "      <th>mean</th>\n",
       "      <th>sum</th>\n",
       "      <th>percentage</th>\n",
       "    </tr>\n",
       "    <tr>\n",
       "      <th>model</th>\n",
       "      <th></th>\n",
       "      <th></th>\n",
       "      <th></th>\n",
       "    </tr>\n",
       "  </thead>\n",
       "  <tbody>\n",
       "    <tr>\n",
       "      <th>Golf</th>\n",
       "      <td>16689.69</td>\n",
       "      <td>81.16</td>\n",
       "      <td>32.08</td>\n",
       "    </tr>\n",
       "    <tr>\n",
       "      <th>Polo</th>\n",
       "      <td>11341.43</td>\n",
       "      <td>37.28</td>\n",
       "      <td>21.69</td>\n",
       "    </tr>\n",
       "    <tr>\n",
       "      <th>Tiguan</th>\n",
       "      <td>21644.75</td>\n",
       "      <td>38.20</td>\n",
       "      <td>11.64</td>\n",
       "    </tr>\n",
       "    <tr>\n",
       "      <th>Passat</th>\n",
       "      <td>16684.68</td>\n",
       "      <td>15.27</td>\n",
       "      <td>6.04</td>\n",
       "    </tr>\n",
       "    <tr>\n",
       "      <th>Up</th>\n",
       "      <td>8029.43</td>\n",
       "      <td>7.10</td>\n",
       "      <td>5.83</td>\n",
       "    </tr>\n",
       "  </tbody>\n",
       "</table>\n",
       "</div>"
      ],
      "text/plain": [
       "             mean    sum  percentage\n",
       "model                               \n",
       " Golf    16689.69  81.16       32.08\n",
       " Polo    11341.43  37.28       21.69\n",
       " Tiguan  21644.75  38.20       11.64\n",
       " Passat  16684.68  15.27        6.04\n",
       " Up       8029.43   7.10        5.83"
      ]
     },
     "metadata": {},
     "output_type": "display_data"
    },
    {
     "data": {
      "text/html": [
       "<div>\n",
       "<style scoped>\n",
       "    .dataframe tbody tr th:only-of-type {\n",
       "        vertical-align: middle;\n",
       "    }\n",
       "\n",
       "    .dataframe tbody tr th {\n",
       "        vertical-align: top;\n",
       "    }\n",
       "\n",
       "    .dataframe thead th {\n",
       "        text-align: right;\n",
       "    }\n",
       "</style>\n",
       "<table border=\"1\" class=\"dataframe\">\n",
       "  <thead>\n",
       "    <tr style=\"text-align: right;\">\n",
       "      <th></th>\n",
       "      <th>mean</th>\n",
       "      <th>sum</th>\n",
       "      <th>percentage</th>\n",
       "    </tr>\n",
       "    <tr>\n",
       "      <th>transmission</th>\n",
       "      <th></th>\n",
       "      <th></th>\n",
       "      <th></th>\n",
       "    </tr>\n",
       "  </thead>\n",
       "  <tbody>\n",
       "    <tr>\n",
       "      <th>Manual</th>\n",
       "      <td>13709.17</td>\n",
       "      <td>129.10</td>\n",
       "      <td>62.13</td>\n",
       "    </tr>\n",
       "    <tr>\n",
       "      <th>Semi-Auto</th>\n",
       "      <td>21654.32</td>\n",
       "      <td>81.85</td>\n",
       "      <td>24.94</td>\n",
       "    </tr>\n",
       "    <tr>\n",
       "      <th>Automatic</th>\n",
       "      <td>22589.53</td>\n",
       "      <td>44.28</td>\n",
       "      <td>12.93</td>\n",
       "    </tr>\n",
       "  </tbody>\n",
       "</table>\n",
       "</div>"
      ],
      "text/plain": [
       "                  mean     sum  percentage\n",
       "transmission                              \n",
       "Manual        13709.17  129.10       62.13\n",
       "Semi-Auto     21654.32   81.85       24.94\n",
       "Automatic     22589.53   44.28       12.93"
      ]
     },
     "metadata": {},
     "output_type": "display_data"
    },
    {
     "data": {
      "text/html": [
       "<div>\n",
       "<style scoped>\n",
       "    .dataframe tbody tr th:only-of-type {\n",
       "        vertical-align: middle;\n",
       "    }\n",
       "\n",
       "    .dataframe tbody tr th {\n",
       "        vertical-align: top;\n",
       "    }\n",
       "\n",
       "    .dataframe thead th {\n",
       "        text-align: right;\n",
       "    }\n",
       "</style>\n",
       "<table border=\"1\" class=\"dataframe\">\n",
       "  <thead>\n",
       "    <tr style=\"text-align: right;\">\n",
       "      <th></th>\n",
       "      <th>mean</th>\n",
       "      <th>sum</th>\n",
       "      <th>percentage</th>\n",
       "    </tr>\n",
       "    <tr>\n",
       "      <th>fuelType</th>\n",
       "      <th></th>\n",
       "      <th></th>\n",
       "      <th></th>\n",
       "    </tr>\n",
       "  </thead>\n",
       "  <tbody>\n",
       "    <tr>\n",
       "      <th>Petrol</th>\n",
       "      <td>15187.60</td>\n",
       "      <td>129.90</td>\n",
       "      <td>56.43</td>\n",
       "    </tr>\n",
       "    <tr>\n",
       "      <th>Diesel</th>\n",
       "      <td>18821.65</td>\n",
       "      <td>119.93</td>\n",
       "      <td>42.04</td>\n",
       "    </tr>\n",
       "    <tr>\n",
       "      <th>Hybrid</th>\n",
       "      <td>24458.45</td>\n",
       "      <td>3.55</td>\n",
       "      <td>0.96</td>\n",
       "    </tr>\n",
       "    <tr>\n",
       "      <th>Other</th>\n",
       "      <td>21269.49</td>\n",
       "      <td>1.85</td>\n",
       "      <td>0.57</td>\n",
       "    </tr>\n",
       "  </tbody>\n",
       "</table>\n",
       "</div>"
      ],
      "text/plain": [
       "              mean     sum  percentage\n",
       "fuelType                              \n",
       "Petrol    15187.60  129.90       56.43\n",
       "Diesel    18821.65  119.93       42.04\n",
       "Hybrid    24458.45    3.55        0.96\n",
       "Other     21269.49    1.85        0.57"
      ]
     },
     "metadata": {},
     "output_type": "display_data"
    }
   ],
   "source": [
    "# Pre-Process df_model\n",
    "preProcess(df_model)\n",
    "\n",
    "# Pre-Process df_transmission\n",
    "preProcess(df_transmission)\n",
    "\n",
    "# Pre-Process df_fuelType\n",
    "preProcess(df_fuelType)\n"
   ]
  },
  {
   "cell_type": "markdown",
   "id": "f5d929bf",
   "metadata": {},
   "source": [
    "Now our dataframes are ready for visualization."
   ]
  },
  {
   "cell_type": "markdown",
   "id": "c810ea1d",
   "metadata": {},
   "source": [
    "### Data Visualization"
   ]
  },
  {
   "cell_type": "markdown",
   "id": "61cf7b2f",
   "metadata": {},
   "source": [
    "The data visualization process consists of some steps to achieve the desired output. The steps involved can be summarized as follows.\n",
    "\n",
    "1. Set up the visualization context and style.\n",
    "2. In case of multiple visualizations, create a figure with appropriate size and include the visualizations as subplots on the figure.\n",
    "3. Provide a Central Title for the visualizations.\n",
    "4. Set the location on the figure for a new visualization\n",
    "5. Create the individual visualization\n",
    "    - Provide `x-axis` and `y-axis` data sources along with the `dataframe`\n",
    "    - Provide appropriate orientation and colors (if required)\n",
    "    - Provide appropriate title for the subplot\n",
    "    - Provide appropriate axis labels\n",
    "6. Adjust the subplot layouts.\n",
    "7. Finally, display the visualization"
   ]
  },
  {
   "cell_type": "markdown",
   "id": "025f8754",
   "metadata": {},
   "source": [
    "We can see from the steps listed above that we will be repeating step 5 for each new visualization in our notebook. Hence we can create a function to take care of this step as follows."
   ]
  },
  {
   "cell_type": "code",
   "execution_count": 13,
   "id": "0141c6b5",
   "metadata": {},
   "outputs": [],
   "source": [
    "# Create a custom function for creating a BarPlot\n",
    "def customBarPlot(data=None, x=None, y=None, orient=None, color=None, title=None, xlabel=None, ylabel=None):\n",
    "    sns.barplot(x = x, y = y, data = data, orient = orient, color = color)\n",
    "    plt.title(title)\n",
    "    plt.xlabel(xlabel)\n",
    "    plt.ylabel(ylabel)"
   ]
  },
  {
   "cell_type": "markdown",
   "id": "a7433b80",
   "metadata": {},
   "source": [
    "Now we can use the `customBarPlot()` function to create our individual visualizations.\n",
    "\n",
    "We will be creating a total of 9 barplots in a 3x3 pattern contained in a tight layout on a single plot figure using the top 5 values from our dataframes. The following lines of codes will now create our desired visualizations.\n",
    "\n",
    "Note that, since we will use only the top 5 values from our sorted dataframes, we will be using the `dataframe.head()` command for passing in the dataframe and the values in our visualization functions."
   ]
  },
  {
   "cell_type": "code",
   "execution_count": 14,
   "id": "3d4cbc9f",
   "metadata": {},
   "outputs": [
    {
     "data": {
      "text/html": [
       "<div>\n",
       "<style scoped>\n",
       "    .dataframe tbody tr th:only-of-type {\n",
       "        vertical-align: middle;\n",
       "    }\n",
       "\n",
       "    .dataframe tbody tr th {\n",
       "        vertical-align: top;\n",
       "    }\n",
       "\n",
       "    .dataframe thead th {\n",
       "        text-align: right;\n",
       "    }\n",
       "</style>\n",
       "<table border=\"1\" class=\"dataframe\">\n",
       "  <thead>\n",
       "    <tr style=\"text-align: right;\">\n",
       "      <th></th>\n",
       "      <th>mean</th>\n",
       "      <th>sum</th>\n",
       "      <th>percentage</th>\n",
       "    </tr>\n",
       "    <tr>\n",
       "      <th>model</th>\n",
       "      <th></th>\n",
       "      <th></th>\n",
       "      <th></th>\n",
       "    </tr>\n",
       "  </thead>\n",
       "  <tbody>\n",
       "    <tr>\n",
       "      <th>Caddy Life</th>\n",
       "      <td>17432.88</td>\n",
       "      <td>0.14</td>\n",
       "      <td>0.05</td>\n",
       "    </tr>\n",
       "    <tr>\n",
       "      <th>Eos</th>\n",
       "      <td>6616.43</td>\n",
       "      <td>0.05</td>\n",
       "      <td>0.05</td>\n",
       "    </tr>\n",
       "    <tr>\n",
       "      <th>Caddy</th>\n",
       "      <td>12844.00</td>\n",
       "      <td>0.08</td>\n",
       "      <td>0.04</td>\n",
       "    </tr>\n",
       "    <tr>\n",
       "      <th>Fox</th>\n",
       "      <td>1733.50</td>\n",
       "      <td>0.01</td>\n",
       "      <td>0.03</td>\n",
       "    </tr>\n",
       "    <tr>\n",
       "      <th>Caddy Maxi</th>\n",
       "      <td>11472.25</td>\n",
       "      <td>0.05</td>\n",
       "      <td>0.03</td>\n",
       "    </tr>\n",
       "  </tbody>\n",
       "</table>\n",
       "</div>"
      ],
      "text/plain": [
       "                 mean   sum  percentage\n",
       "model                                  \n",
       " Caddy Life  17432.88  0.14        0.05\n",
       " Eos          6616.43  0.05        0.05\n",
       " Caddy       12844.00  0.08        0.04\n",
       " Fox          1733.50  0.01        0.03\n",
       " Caddy Maxi  11472.25  0.05        0.03"
      ]
     },
     "metadata": {},
     "output_type": "display_data"
    }
   ],
   "source": [
    "display(df_model.tail())"
   ]
  },
  {
   "cell_type": "code",
   "execution_count": 15,
   "id": "7e0b0add",
   "metadata": {},
   "outputs": [
    {
     "data": {
      "image/png": "[encoded data removed]",
      "text/plain": [
       "<Figure size 1296x1296 with 9 Axes>"
      ]
     },
     "metadata": {},
     "output_type": "display_data"
    }
   ],
   "source": [
    "# Set up the visualization context and style\n",
    "sns.set_context(\"notebook\", font_scale = 1.25)\n",
    "sns.set_style(\"darkgrid\")\n",
    "\n",
    "# Create a figure\n",
    "plt.figure(figsize = (18,18))\n",
    "\n",
    "# Provide a Central Title for the figure and adjust the subplot layouts\n",
    "plt.suptitle(\"Volkswagen Used Cars Data Analysis and Visualization\")\n",
    "\n",
    "# Create Barplot in Position: 1 Based on Model showing values for Percentage\n",
    "plt.subplot(3, 3, 1)\n",
    "customBarPlot(data = df_model,\n",
    "             x = 'percentage',\n",
    "             y = df_model.index,\n",
    "             orient = 'h',\n",
    "             color = 'grey',\n",
    "             title = \"Top selling cars based on Model\",\n",
    "             xlabel = \"Percentage of cars (%)\",\n",
    "             ylabel = \"Car Model\")\n",
    "\n",
    "# Create Barplot in Position: 2 Based on Model showing values for average selling price\n",
    "plt.subplot(3, 3, 2)\n",
    "customBarPlot(data = df_model,\n",
    "             x = 'mean',\n",
    "             y = df_model.index,\n",
    "             orient = 'h',\n",
    "             color = 'orange',\n",
    "             title = \"Average selling price based on Model\",\n",
    "             xlabel = \"Average Selling Price ($)\",\n",
    "             ylabel = \"\")\n",
    "\n",
    "# Create Barplot in Position: 3 Based on Model showing values for total sales\n",
    "plt.subplot(3, 3, 3)\n",
    "customBarPlot(data = df_model,\n",
    "             x = 'sum',\n",
    "             y = df_model.index,\n",
    "             orient = 'h',\n",
    "             color = 'green',\n",
    "             title = \"Total sales price based on Model\",\n",
    "             xlabel = \"Total Sales Price (million $)\",\n",
    "             ylabel = \"\")\n",
    "\n",
    "# Create Barplot in Position: 4 Based on Transmission Type showing values for Percentage\n",
    "plt.subplot(3, 3, 4)\n",
    "customBarPlot(data = df_transmission,\n",
    "             x = 'percentage',\n",
    "             y = df_transmission.index,\n",
    "             orient = 'h',\n",
    "             color = 'grey',\n",
    "             title = \"Top selling cars based on Transmission Type\",\n",
    "             xlabel = \"Percentage of cars (%)\",\n",
    "             ylabel = \"Transmission Type\")\n",
    "\n",
    "# Create Barplot in Position: 5 Based on Transmission Type showing values for average selling price\n",
    "plt.subplot(3, 3, 5)\n",
    "customBarPlot(data = df_transmission,\n",
    "             x = 'mean',\n",
    "             y = df_transmission.index,\n",
    "             orient = 'h',\n",
    "             color = 'orange',\n",
    "             title = \"Average selling price based on Transmission Type\",\n",
    "             xlabel = \"Average Selling Price ($)\",\n",
    "             ylabel = \"\")\n",
    "\n",
    "# Create Barplot in Position: 6 Based on Transmission Type showing values for total sales\n",
    "plt.subplot(3, 3, 6)\n",
    "customBarPlot(data = df_transmission,\n",
    "             x = 'sum',\n",
    "             y = df_transmission.index,\n",
    "             orient = 'h',\n",
    "             color = 'green',\n",
    "             title = \"Total sales price based on Transmission Type\",\n",
    "             xlabel = \"Total Sales Price (million $)\",\n",
    "             ylabel = \"\")\n",
    "\n",
    "# Create Barplot in Position: 7 Based on Fuel Type showing values for Percentage\n",
    "plt.subplot(3, 3, 7)\n",
    "customBarPlot(data = df_fuelType,\n",
    "             x = 'percentage',\n",
    "             y = df_fuelType.index,\n",
    "             orient = 'h',\n",
    "             color = 'grey',\n",
    "             title = \"Top selling cars based on Fuel Type\",\n",
    "             xlabel = \"Percentage of cars (%)\",\n",
    "             ylabel = \"Fuel Type\")\n",
    "\n",
    "# Create Barplot in Position: 8 Based on Fuel Type showing values for average selling price\n",
    "plt.subplot(3, 3, 8)\n",
    "customBarPlot(data = df_fuelType,\n",
    "             x = 'mean',\n",
    "             y = df_fuelType.index,\n",
    "             orient = 'h',\n",
    "             color = 'orange',\n",
    "             title = \"Average selling price based on Fuel Type\",\n",
    "             xlabel = \"Average Selling Price ($)\",\n",
    "             ylabel = \"\")\n",
    "\n",
    "# Create Barplot in Position: 9 Based on Fuel Type showing values for total sales\n",
    "plt.subplot(3, 3, 9)\n",
    "customBarPlot(data = df_fuelType,\n",
    "             x = 'sum',\n",
    "             y = df_fuelType.index,\n",
    "             orient = 'h',\n",
    "             color = 'green',\n",
    "             title = \"Total sales price based on Fuel Type\",\n",
    "             xlabel = \"Total Sales Price (million $)\",\n",
    "             ylabel = \"\")\n",
    "\n",
    "# sns.barplot(x = 'percentage', y = df_model.index, data = df_model, orient = 'h', color = 'black')\n",
    "\n",
    "# Adjust the subplot layouts\n",
    "plt.tight_layout()\n",
    "\n",
    "# Display the visualization\n",
    "plt.show()"
   ]
  },
  {
   "cell_type": "markdown",
   "id": "1e2f9978",
   "metadata": {},
   "source": [
    "The figure above visually answers the questions set out before the EDA for the top 5 values (where more than 5) of the control feature in question as barplots with appropriate labels added to them."
   ]
  }
 ],
 "metadata": {
  "kernelspec": {
   "display_name": "Python 3",
   "language": "python",
   "name": "python3"
  },
  "language_info": {
   "codemirror_mode": {
    "name": "ipython",
    "version": 3
   },
   "file_extension": ".py",
   "mimetype": "text/x-python",
   "name": "python",
   "nbconvert_exporter": "python",
   "pygments_lexer": "ipython3",
   "version": "3.8.8"
  }
 },
 "nbformat": 4,
 "nbformat_minor": 5
}

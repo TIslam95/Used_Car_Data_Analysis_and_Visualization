{
 "cells": [
  {
   "cell_type": "markdown",
   "id": "d0ab9e98",
   "metadata": {},
   "source": [
    "## Hyundai Used Car Analysis"
   ]
  },
  {
   "cell_type": "markdown",
   "id": "3cea7ecc",
   "metadata": {},
   "source": [
    "**Author:\n",
    "<br> Md. Tariqul Islam\n",
    "<br> B.Sc. Civil Engg. (KUET)**"
   ]
  },
  {
   "cell_type": "markdown",
   "id": "53938e4f",
   "metadata": {},
   "source": [
    "In this notebook, we are working on part of a kaggle dataset containing used car information in the US for a total of 7 brands namely Audi, BMW, Skoda, Ford, Volkswagen, Toyota and Hyundai.\n",
    "(*Dataset Source:* https://www.kaggle.com/aishwaryamuthukumar/cars-dataset-audi-bmw-ford-hyundai-skoda-vw)\n",
    "\n",
    "<br>We will be performing Exploratory Data Analysis (EDA) on the used car data for a particular brand, namely Hyundai, present in this dataset and try to visualize and answer some questions about this data."
   ]
  },
  {
   "cell_type": "markdown",
   "id": "654f58e2",
   "metadata": {},
   "source": [
    "### Import Required Libraries"
   ]
  },
  {
   "cell_type": "markdown",
   "id": "c1266439",
   "metadata": {},
   "source": [
    "As mentioned above, we will be performing data analysis and visualization on our dataset. Hence we will require the following libraries to be imported into our notebook.\n",
    "- `pandas` for data analysis\n",
    "- `matplotlib.pyplot` and `seaborn` for data visualization\n",
    "\n",
    "The following lines of codes will import the required libraries mentioned above."
   ]
  },
  {
   "cell_type": "code",
   "execution_count": 1,
   "id": "53776b77",
   "metadata": {},
   "outputs": [],
   "source": [
    "# Import Libraries Data Analysis and Numerical Operations\n",
    "import pandas as pd\n",
    "\n",
    "# Import Libraries for Visualization\n",
    "import matplotlib.pyplot as plt\n",
    "import seaborn as sns"
   ]
  },
  {
   "cell_type": "markdown",
   "id": "b19ddbd2",
   "metadata": {},
   "source": [
    "### Import the Dataset"
   ]
  },
  {
   "cell_type": "markdown",
   "id": "3a193376",
   "metadata": {},
   "source": [
    "The next step will be importing our data into the notebook. The filtered data from the original dataset, containing only the information on the Hyundai brand cars, are saved as a CSV file named `hyundai.csv`. We can use the `pandas.read_csv()` function to import this data in our notebook as a pandas dataframe object."
   ]
  },
  {
   "cell_type": "code",
   "execution_count": 2,
   "id": "28762bff",
   "metadata": {},
   "outputs": [],
   "source": [
    "# Import data from a CSV file\n",
    "df = pd.read_csv(\"hyundai.csv\")"
   ]
  },
  {
   "cell_type": "markdown",
   "id": "fac0ceed",
   "metadata": {},
   "source": [
    "### Explore the Data"
   ]
  },
  {
   "cell_type": "markdown",
   "id": "25dab0c4",
   "metadata": {},
   "source": [
    "It is a good practice to explore the newly imported data and get familiar with every aspects of the dataset before diving into any data analysis operations. Spending a little extra time to understand the data in hand is always helpful in the long run for any data analysis related tasks."
   ]
  },
  {
   "cell_type": "markdown",
   "id": "b1c76a76",
   "metadata": {},
   "source": [
    "The simplest way of getting a good look at our data is to display the dataframe using the `display()` comamand."
   ]
  },
  {
   "cell_type": "code",
   "execution_count": 3,
   "id": "6910a7c1",
   "metadata": {},
   "outputs": [
    {
     "data": {
      "text/html": [
       "<div>\n",
       "<style scoped>\n",
       "    .dataframe tbody tr th:only-of-type {\n",
       "        vertical-align: middle;\n",
       "    }\n",
       "\n",
       "    .dataframe tbody tr th {\n",
       "        vertical-align: top;\n",
       "    }\n",
       "\n",
       "    .dataframe thead th {\n",
       "        text-align: right;\n",
       "    }\n",
       "</style>\n",
       "<table border=\"1\" class=\"dataframe\">\n",
       "  <thead>\n",
       "    <tr style=\"text-align: right;\">\n",
       "      <th></th>\n",
       "      <th>model</th>\n",
       "      <th>year</th>\n",
       "      <th>price</th>\n",
       "      <th>transmission</th>\n",
       "      <th>mileage</th>\n",
       "      <th>fuelType</th>\n",
       "      <th>mpg</th>\n",
       "      <th>engineSize</th>\n",
       "    </tr>\n",
       "  </thead>\n",
       "  <tbody>\n",
       "    <tr>\n",
       "      <th>0</th>\n",
       "      <td>I20</td>\n",
       "      <td>2017</td>\n",
       "      <td>7999</td>\n",
       "      <td>Manual</td>\n",
       "      <td>17307</td>\n",
       "      <td>Petrol</td>\n",
       "      <td>58.9</td>\n",
       "      <td>1.2</td>\n",
       "    </tr>\n",
       "    <tr>\n",
       "      <th>1</th>\n",
       "      <td>Tucson</td>\n",
       "      <td>2016</td>\n",
       "      <td>14499</td>\n",
       "      <td>Automatic</td>\n",
       "      <td>25233</td>\n",
       "      <td>Diesel</td>\n",
       "      <td>43.5</td>\n",
       "      <td>2.0</td>\n",
       "    </tr>\n",
       "    <tr>\n",
       "      <th>2</th>\n",
       "      <td>Tucson</td>\n",
       "      <td>2016</td>\n",
       "      <td>11399</td>\n",
       "      <td>Manual</td>\n",
       "      <td>37877</td>\n",
       "      <td>Diesel</td>\n",
       "      <td>61.7</td>\n",
       "      <td>1.7</td>\n",
       "    </tr>\n",
       "    <tr>\n",
       "      <th>3</th>\n",
       "      <td>I10</td>\n",
       "      <td>2016</td>\n",
       "      <td>6499</td>\n",
       "      <td>Manual</td>\n",
       "      <td>23789</td>\n",
       "      <td>Petrol</td>\n",
       "      <td>60.1</td>\n",
       "      <td>1.0</td>\n",
       "    </tr>\n",
       "    <tr>\n",
       "      <th>4</th>\n",
       "      <td>IX35</td>\n",
       "      <td>2015</td>\n",
       "      <td>10199</td>\n",
       "      <td>Manual</td>\n",
       "      <td>33177</td>\n",
       "      <td>Diesel</td>\n",
       "      <td>51.4</td>\n",
       "      <td>2.0</td>\n",
       "    </tr>\n",
       "    <tr>\n",
       "      <th>...</th>\n",
       "      <td>...</td>\n",
       "      <td>...</td>\n",
       "      <td>...</td>\n",
       "      <td>...</td>\n",
       "      <td>...</td>\n",
       "      <td>...</td>\n",
       "      <td>...</td>\n",
       "      <td>...</td>\n",
       "    </tr>\n",
       "    <tr>\n",
       "      <th>4855</th>\n",
       "      <td>I30</td>\n",
       "      <td>2016</td>\n",
       "      <td>8680</td>\n",
       "      <td>Manual</td>\n",
       "      <td>25906</td>\n",
       "      <td>Diesel</td>\n",
       "      <td>78.4</td>\n",
       "      <td>1.6</td>\n",
       "    </tr>\n",
       "    <tr>\n",
       "      <th>4856</th>\n",
       "      <td>I40</td>\n",
       "      <td>2015</td>\n",
       "      <td>7830</td>\n",
       "      <td>Manual</td>\n",
       "      <td>59508</td>\n",
       "      <td>Diesel</td>\n",
       "      <td>65.7</td>\n",
       "      <td>1.7</td>\n",
       "    </tr>\n",
       "    <tr>\n",
       "      <th>4857</th>\n",
       "      <td>I10</td>\n",
       "      <td>2017</td>\n",
       "      <td>6830</td>\n",
       "      <td>Manual</td>\n",
       "      <td>13810</td>\n",
       "      <td>Petrol</td>\n",
       "      <td>60.1</td>\n",
       "      <td>1.0</td>\n",
       "    </tr>\n",
       "    <tr>\n",
       "      <th>4858</th>\n",
       "      <td>Tucson</td>\n",
       "      <td>2018</td>\n",
       "      <td>13994</td>\n",
       "      <td>Manual</td>\n",
       "      <td>23313</td>\n",
       "      <td>Petrol</td>\n",
       "      <td>44.8</td>\n",
       "      <td>1.6</td>\n",
       "    </tr>\n",
       "    <tr>\n",
       "      <th>4859</th>\n",
       "      <td>Tucson</td>\n",
       "      <td>2016</td>\n",
       "      <td>15999</td>\n",
       "      <td>Automatic</td>\n",
       "      <td>11472</td>\n",
       "      <td>Diesel</td>\n",
       "      <td>57.6</td>\n",
       "      <td>1.7</td>\n",
       "    </tr>\n",
       "  </tbody>\n",
       "</table>\n",
       "<p>4860 rows × 8 columns</p>\n",
       "</div>"
      ],
      "text/plain": [
       "        model  year  price transmission  mileage fuelType   mpg  engineSize\n",
       "0         I20  2017   7999       Manual    17307   Petrol  58.9         1.2\n",
       "1      Tucson  2016  14499    Automatic    25233   Diesel  43.5         2.0\n",
       "2      Tucson  2016  11399       Manual    37877   Diesel  61.7         1.7\n",
       "3         I10  2016   6499       Manual    23789   Petrol  60.1         1.0\n",
       "4        IX35  2015  10199       Manual    33177   Diesel  51.4         2.0\n",
       "...       ...   ...    ...          ...      ...      ...   ...         ...\n",
       "4855      I30  2016   8680       Manual    25906   Diesel  78.4         1.6\n",
       "4856      I40  2015   7830       Manual    59508   Diesel  65.7         1.7\n",
       "4857      I10  2017   6830       Manual    13810   Petrol  60.1         1.0\n",
       "4858   Tucson  2018  13994       Manual    23313   Petrol  44.8         1.6\n",
       "4859   Tucson  2016  15999    Automatic    11472   Diesel  57.6         1.7\n",
       "\n",
       "[4860 rows x 8 columns]"
      ]
     },
     "metadata": {},
     "output_type": "display_data"
    }
   ],
   "source": [
    "# Display the dataframe\n",
    "display(df)"
   ]
  },
  {
   "cell_type": "markdown",
   "id": "3b5faf02",
   "metadata": {},
   "source": [
    "We can readily see the first and last few rows of our dataset along with a summary at the bottom stating that the dataset consists of 4860 rows  and 8 columns. That means our dataset for used Hyundai cars contains a total of 4860 observations and 8 features for the observations."
   ]
  },
  {
   "cell_type": "markdown",
   "id": "8f8c12fd",
   "metadata": {},
   "source": [
    "Next we can display the dataframe information to get a summary of the features and their datatypes along with some other informations."
   ]
  },
  {
   "cell_type": "code",
   "execution_count": 4,
   "id": "8dde1d19",
   "metadata": {},
   "outputs": [
    {
     "name": "stdout",
     "output_type": "stream",
     "text": [
      "<class 'pandas.core.frame.DataFrame'>\n",
      "RangeIndex: 4860 entries, 0 to 4859\n",
      "Data columns (total 8 columns):\n",
      " #   Column        Non-Null Count  Dtype  \n",
      "---  ------        --------------  -----  \n",
      " 0   model         4860 non-null   object \n",
      " 1   year          4860 non-null   int64  \n",
      " 2   price         4860 non-null   int64  \n",
      " 3   transmission  4860 non-null   object \n",
      " 4   mileage       4860 non-null   int64  \n",
      " 5   fuelType      4860 non-null   object \n",
      " 6   mpg           4860 non-null   float64\n",
      " 7   engineSize    4860 non-null   float64\n",
      "dtypes: float64(2), int64(3), object(3)\n",
      "memory usage: 303.9+ KB\n"
     ]
    }
   ],
   "source": [
    "# Display Dataframe Information\n",
    "df.info()"
   ]
  },
  {
   "cell_type": "markdown",
   "id": "48119bfa",
   "metadata": {},
   "source": [
    "We can see that among the 8 features contained in the dataset, 5 are in numerical formats and the other 3 are in string format. Also there are no missing values in any of the features in this dataframe, so no data cleaning operations are required."
   ]
  },
  {
   "cell_type": "markdown",
   "id": "664a9993",
   "metadata": {},
   "source": [
    "### Explain the features"
   ]
  },
  {
   "cell_type": "markdown",
   "id": "b367f018",
   "metadata": {},
   "source": [
    "Now we can get familiarized with the features contained in this dataframe to get a better understanding of the dataset. The 8 features contained in the dataframe are:\n",
    "- `model` : Name of the model of the car in observation\n",
    "- `year` : The making year of the car in observation\n",
    "- `price` : The resale price, in US Dollars, of the car in observation\n",
    "- `transmission` : The transmission system used in the car in observation\n",
    "- `mileage` : Total number of miles run by the car at the time the study.\n",
    "- `fuelType` : Type of fuel used by the car\n",
    "- `mpg` : Number of miles output per galon of fuel\n",
    "- `engineSize` : The volume of fuel and air that can be pushed through car's cylinders\n",
    "\n",
    "Now that we have a better understanding of the features present in the dataset, we can set out to develop our Exploratory Data Analysis."
   ]
  },
  {
   "cell_type": "markdown",
   "id": "a9445f6b",
   "metadata": {},
   "source": [
    "### Set up the Goals"
   ]
  },
  {
   "cell_type": "markdown",
   "id": "858f8b53",
   "metadata": {},
   "source": [
    "The first step of any exploratory data analysis is to observe the data and set up the goal i.e. some questions to be answered from the data. These questions and the process of finding their answers depends solely on the dataset and what it represents. That's why an in-depth understanding of the dataset is crucial for any EDA problem."
   ]
  },
  {
   "cell_type": "markdown",
   "id": "0dc0c1a4",
   "metadata": {},
   "source": [
    "We have already observed our data and introduced the features present in the dataset. We know, from the above descriptions, that our dataset consists of a total 8 features which can be classified as categorical and numerical as follows.\n",
    "- Categorical features\n",
    "    - `model`\n",
    "    - `year`\n",
    "    - `transmission`\n",
    "    - `fueldType`\n",
    "- Numerical features\n",
    "    - `price`\n",
    "    - `mileage`\n",
    "    - `mpg`\n",
    "    - `engineSize`"
   ]
  },
  {
   "cell_type": "markdown",
   "id": "2933050b",
   "metadata": {},
   "source": [
    "It can easily be understood from the dataset that the most important feature in this dataset is the `price` of a car which is dependant on the other seven features present in this dataset and can be identified as the **target feature** of our exploratory data analysis.\n",
    "\n",
    "As the `price` feature is a numerical variable, we can set out to find some very common numerical statistics of this feature such as the *maximum*, *minimum*, *average*, *total*, etc."
   ]
  },
  {
   "cell_type": "markdown",
   "id": "6353df13",
   "metadata": {},
   "source": [
    "As mentioned earlier, the `price`  feature is dependant on the other features of this dataset. But a thorough observation will reveal that the value of this features is more dependant on the three categorical features namely the `model`, `transmission` and `fuelType` than the other variables which are less significant compared to these three.\n",
    "\n",
    "So, we can take these three categorical features as our control features and individually find out the top values, average selling prices, and total sale of the feature in question."
   ]
  },
  {
   "cell_type": "markdown",
   "id": "28cccf91",
   "metadata": {},
   "source": [
    "Although we can find out the answers to these questions in numerous ways, the best approach for this task will be to perform the EDA and visually represent the answers to the questions using barplots."
   ]
  },
  {
   "cell_type": "markdown",
   "id": "302d4fa6",
   "metadata": {},
   "source": [
    "Hence, our goal is to perform Exploratory data analysis based on `model`, `transmission` and `fuelType`, and create barplots answering the following questions\n",
    "- Top 5 selling values of the feature in question\n",
    "- Average selling price for the top 5 values of the features\n",
    "- Total sales price for the top 5 values of the features"
   ]
  },
  {
   "cell_type": "markdown",
   "id": "dd9b3320",
   "metadata": {},
   "source": [
    "### Set up the Analysis Steps"
   ]
  },
  {
   "cell_type": "markdown",
   "id": "4fb9f0e5",
   "metadata": {},
   "source": [
    "The next step after setting up the analysis goals is to set up the analysis steps for achieveing that goals. Our goal is to answer the three questions above and create barplots individually based on three controlling features, namely the `model`, `transmission` and `fuelType`. We can follow the steps listed below to achieve this goal.\n",
    "- Group the data in a new dataframe based on the values of the controlling feature in consideration using the `dataframe.groupby()` or the `pandas.pivot_table()` commands.\n",
    "- Use the appropriate data aggregation feature for the method used above to generate the required values for answering the questions. The values to be aggregated are as follows.\n",
    "    - `count` for determining the top values\n",
    "    - `mean` for determining the average sales price\n",
    "    - `sum` for determining the total sales\n",
    "- Perform any data preprocessing operations required before the visualization.\n",
    "- Create barplots with appropriate formatting and labeling applied"
   ]
  },
  {
   "cell_type": "markdown",
   "id": "072b408c",
   "metadata": {},
   "source": [
    "#### Aggregate the data in new dataframes"
   ]
  },
  {
   "cell_type": "markdown",
   "id": "d39c7970",
   "metadata": {},
   "source": [
    "We will use the `dataframe.groupby()` method for data aggregation and create three new dataframes with the data aggregated into them based on the three control features stated above."
   ]
  },
  {
   "cell_type": "code",
   "execution_count": 5,
   "id": "49c25800",
   "metadata": {},
   "outputs": [
    {
     "data": {
      "text/html": [
       "<div>\n",
       "<style scoped>\n",
       "    .dataframe tbody tr th:only-of-type {\n",
       "        vertical-align: middle;\n",
       "    }\n",
       "\n",
       "    .dataframe tbody tr th {\n",
       "        vertical-align: top;\n",
       "    }\n",
       "\n",
       "    .dataframe thead tr th {\n",
       "        text-align: left;\n",
       "    }\n",
       "\n",
       "    .dataframe thead tr:last-of-type th {\n",
       "        text-align: right;\n",
       "    }\n",
       "</style>\n",
       "<table border=\"1\" class=\"dataframe\">\n",
       "  <thead>\n",
       "    <tr>\n",
       "      <th></th>\n",
       "      <th>count</th>\n",
       "      <th>mean</th>\n",
       "      <th>sum</th>\n",
       "    </tr>\n",
       "    <tr>\n",
       "      <th></th>\n",
       "      <th>price</th>\n",
       "      <th>price</th>\n",
       "      <th>price</th>\n",
       "    </tr>\n",
       "    <tr>\n",
       "      <th>model</th>\n",
       "      <th></th>\n",
       "      <th></th>\n",
       "      <th></th>\n",
       "    </tr>\n",
       "  </thead>\n",
       "  <tbody>\n",
       "    <tr>\n",
       "      <th>Accent</th>\n",
       "      <td>1</td>\n",
       "      <td>1295.000000</td>\n",
       "      <td>1295</td>\n",
       "    </tr>\n",
       "    <tr>\n",
       "      <th>Amica</th>\n",
       "      <td>1</td>\n",
       "      <td>1750.000000</td>\n",
       "      <td>1750</td>\n",
       "    </tr>\n",
       "    <tr>\n",
       "      <th>Getz</th>\n",
       "      <td>6</td>\n",
       "      <td>1927.500000</td>\n",
       "      <td>11565</td>\n",
       "    </tr>\n",
       "    <tr>\n",
       "      <th>I10</th>\n",
       "      <td>1092</td>\n",
       "      <td>7741.870879</td>\n",
       "      <td>8454123</td>\n",
       "    </tr>\n",
       "    <tr>\n",
       "      <th>I20</th>\n",
       "      <td>496</td>\n",
       "      <td>8810.721774</td>\n",
       "      <td>4370118</td>\n",
       "    </tr>\n",
       "    <tr>\n",
       "      <th>I30</th>\n",
       "      <td>536</td>\n",
       "      <td>11609.555970</td>\n",
       "      <td>6222722</td>\n",
       "    </tr>\n",
       "    <tr>\n",
       "      <th>I40</th>\n",
       "      <td>127</td>\n",
       "      <td>10927.188976</td>\n",
       "      <td>1387753</td>\n",
       "    </tr>\n",
       "    <tr>\n",
       "      <th>I800</th>\n",
       "      <td>117</td>\n",
       "      <td>16659.076923</td>\n",
       "      <td>1949112</td>\n",
       "    </tr>\n",
       "    <tr>\n",
       "      <th>IX20</th>\n",
       "      <td>204</td>\n",
       "      <td>8812.867647</td>\n",
       "      <td>1797825</td>\n",
       "    </tr>\n",
       "    <tr>\n",
       "      <th>IX35</th>\n",
       "      <td>118</td>\n",
       "      <td>8307.983051</td>\n",
       "      <td>980342</td>\n",
       "    </tr>\n",
       "  </tbody>\n",
       "</table>\n",
       "</div>"
      ],
      "text/plain": [
       "        count          mean      sum\n",
       "        price         price    price\n",
       "model                               \n",
       " Accent     1   1295.000000     1295\n",
       " Amica      1   1750.000000     1750\n",
       " Getz       6   1927.500000    11565\n",
       " I10     1092   7741.870879  8454123\n",
       " I20      496   8810.721774  4370118\n",
       " I30      536  11609.555970  6222722\n",
       " I40      127  10927.188976  1387753\n",
       " I800     117  16659.076923  1949112\n",
       " IX20     204   8812.867647  1797825\n",
       " IX35     118   8307.983051   980342"
      ]
     },
     "metadata": {},
     "output_type": "display_data"
    }
   ],
   "source": [
    "# Aggregate the data into a new dataframe based on `model`\n",
    "df_model = pd.pivot_table(df, index = \"model\", values = \"price\", aggfunc = ['count', 'mean', 'sum'])\n",
    "\n",
    "# Display the result\n",
    "display(df_model.head(10))"
   ]
  },
  {
   "cell_type": "code",
   "execution_count": 6,
   "id": "538151a3",
   "metadata": {},
   "outputs": [
    {
     "data": {
      "text/html": [
       "<div>\n",
       "<style scoped>\n",
       "    .dataframe tbody tr th:only-of-type {\n",
       "        vertical-align: middle;\n",
       "    }\n",
       "\n",
       "    .dataframe tbody tr th {\n",
       "        vertical-align: top;\n",
       "    }\n",
       "\n",
       "    .dataframe thead tr th {\n",
       "        text-align: left;\n",
       "    }\n",
       "\n",
       "    .dataframe thead tr:last-of-type th {\n",
       "        text-align: right;\n",
       "    }\n",
       "</style>\n",
       "<table border=\"1\" class=\"dataframe\">\n",
       "  <thead>\n",
       "    <tr>\n",
       "      <th></th>\n",
       "      <th>count</th>\n",
       "      <th>mean</th>\n",
       "      <th>sum</th>\n",
       "    </tr>\n",
       "    <tr>\n",
       "      <th></th>\n",
       "      <th>price</th>\n",
       "      <th>price</th>\n",
       "      <th>price</th>\n",
       "    </tr>\n",
       "    <tr>\n",
       "      <th>transmission</th>\n",
       "      <th></th>\n",
       "      <th></th>\n",
       "      <th></th>\n",
       "    </tr>\n",
       "  </thead>\n",
       "  <tbody>\n",
       "    <tr>\n",
       "      <th>Automatic</th>\n",
       "      <td>669</td>\n",
       "      <td>16369.224215</td>\n",
       "      <td>10951011</td>\n",
       "    </tr>\n",
       "    <tr>\n",
       "      <th>Manual</th>\n",
       "      <td>3611</td>\n",
       "      <td>11059.049571</td>\n",
       "      <td>39934228</td>\n",
       "    </tr>\n",
       "    <tr>\n",
       "      <th>Other</th>\n",
       "      <td>2</td>\n",
       "      <td>14745.000000</td>\n",
       "      <td>29490</td>\n",
       "    </tr>\n",
       "    <tr>\n",
       "      <th>Semi-Auto</th>\n",
       "      <td>578</td>\n",
       "      <td>19119.217993</td>\n",
       "      <td>11050908</td>\n",
       "    </tr>\n",
       "  </tbody>\n",
       "</table>\n",
       "</div>"
      ],
      "text/plain": [
       "             count          mean       sum\n",
       "             price         price     price\n",
       "transmission                              \n",
       "Automatic      669  16369.224215  10951011\n",
       "Manual        3611  11059.049571  39934228\n",
       "Other            2  14745.000000     29490\n",
       "Semi-Auto      578  19119.217993  11050908"
      ]
     },
     "metadata": {},
     "output_type": "display_data"
    }
   ],
   "source": [
    "# Aggregate the data into a new dataframe based on `transmission`\n",
    "df_transmission = pd.pivot_table(df, index = \"transmission\", values = \"price\", aggfunc = ['count', 'mean', 'sum'])\n",
    "\n",
    "# Display the result\n",
    "display(df_transmission)"
   ]
  },
  {
   "cell_type": "code",
   "execution_count": 7,
   "id": "5f7af06b",
   "metadata": {},
   "outputs": [
    {
     "data": {
      "text/html": [
       "<div>\n",
       "<style scoped>\n",
       "    .dataframe tbody tr th:only-of-type {\n",
       "        vertical-align: middle;\n",
       "    }\n",
       "\n",
       "    .dataframe tbody tr th {\n",
       "        vertical-align: top;\n",
       "    }\n",
       "\n",
       "    .dataframe thead tr th {\n",
       "        text-align: left;\n",
       "    }\n",
       "\n",
       "    .dataframe thead tr:last-of-type th {\n",
       "        text-align: right;\n",
       "    }\n",
       "</style>\n",
       "<table border=\"1\" class=\"dataframe\">\n",
       "  <thead>\n",
       "    <tr>\n",
       "      <th></th>\n",
       "      <th>count</th>\n",
       "      <th>mean</th>\n",
       "      <th>sum</th>\n",
       "    </tr>\n",
       "    <tr>\n",
       "      <th></th>\n",
       "      <th>price</th>\n",
       "      <th>price</th>\n",
       "      <th>price</th>\n",
       "    </tr>\n",
       "    <tr>\n",
       "      <th>fuelType</th>\n",
       "      <th></th>\n",
       "      <th></th>\n",
       "      <th></th>\n",
       "    </tr>\n",
       "  </thead>\n",
       "  <tbody>\n",
       "    <tr>\n",
       "      <th>Diesel</th>\n",
       "      <td>1608</td>\n",
       "      <td>14589.905473</td>\n",
       "      <td>23460568</td>\n",
       "    </tr>\n",
       "    <tr>\n",
       "      <th>Hybrid</th>\n",
       "      <td>349</td>\n",
       "      <td>19223.272206</td>\n",
       "      <td>6708922</td>\n",
       "    </tr>\n",
       "    <tr>\n",
       "      <th>Other</th>\n",
       "      <td>1</td>\n",
       "      <td>12800.000000</td>\n",
       "      <td>12800</td>\n",
       "    </tr>\n",
       "    <tr>\n",
       "      <th>Petrol</th>\n",
       "      <td>2902</td>\n",
       "      <td>10952.221571</td>\n",
       "      <td>31783347</td>\n",
       "    </tr>\n",
       "  </tbody>\n",
       "</table>\n",
       "</div>"
      ],
      "text/plain": [
       "         count          mean       sum\n",
       "         price         price     price\n",
       "fuelType                              \n",
       "Diesel    1608  14589.905473  23460568\n",
       "Hybrid     349  19223.272206   6708922\n",
       "Other        1  12800.000000     12800\n",
       "Petrol    2902  10952.221571  31783347"
      ]
     },
     "metadata": {},
     "output_type": "display_data"
    }
   ],
   "source": [
    "# Aggregate the data into a new dataframe based on `fuelType`\n",
    "df_fuelType = pd.pivot_table(df, index = \"fuelType\", values = \"price\", aggfunc = ['count', 'mean', 'sum'])\n",
    "\n",
    "# Display the result\n",
    "display(df_fuelType)"
   ]
  },
  {
   "cell_type": "markdown",
   "id": "adcfe847",
   "metadata": {},
   "source": [
    "As we can see above, our data have been aggregated into three new dataframes as expected. But if we display the column names for any of the dataframes, we will see that each of the column names are formated as tuples."
   ]
  },
  {
   "cell_type": "code",
   "execution_count": 8,
   "id": "05879944",
   "metadata": {},
   "outputs": [
    {
     "data": {
      "text/plain": [
       "MultiIndex([('count', 'price'),\n",
       "            ( 'mean', 'price'),\n",
       "            (  'sum', 'price')],\n",
       "           )"
      ]
     },
     "metadata": {},
     "output_type": "display_data"
    }
   ],
   "source": [
    "# Display Dataframe column names\n",
    "display(df_model.columns)"
   ]
  },
  {
   "cell_type": "markdown",
   "id": "8c101e93",
   "metadata": {},
   "source": [
    "Here it says that the columns are `MultiIndex` instead of `Index` and the column names are indexed as tuples. We need to change the column names for each of the dataframes to make further analyses easier."
   ]
  },
  {
   "cell_type": "code",
   "execution_count": 9,
   "id": "2ba5e9aa",
   "metadata": {},
   "outputs": [
    {
     "data": {
      "text/plain": [
       "Index(['count', 'mean', 'sum'], dtype='object')"
      ]
     },
     "metadata": {},
     "output_type": "display_data"
    },
    {
     "data": {
      "text/plain": [
       "Index(['count', 'mean', 'sum'], dtype='object')"
      ]
     },
     "metadata": {},
     "output_type": "display_data"
    },
    {
     "data": {
      "text/plain": [
       "Index(['count', 'mean', 'sum'], dtype='object')"
      ]
     },
     "metadata": {},
     "output_type": "display_data"
    }
   ],
   "source": [
    "# Change the column names\n",
    "df_model.columns = ['count', 'mean', 'sum']\n",
    "df_transmission.columns = ['count', 'mean', 'sum']\n",
    "df_fuelType.columns = ['count', 'mean', 'sum']\n",
    "\n",
    "# Display the column names\n",
    "display(df_model.columns)\n",
    "display(df_transmission.columns)\n",
    "display(df_fuelType.columns)"
   ]
  },
  {
   "cell_type": "markdown",
   "id": "505061b9",
   "metadata": {},
   "source": [
    "Now we can see that the column names are now in more easily accessible formats."
   ]
  },
  {
   "cell_type": "markdown",
   "id": "0192d29c",
   "metadata": {},
   "source": [
    "#### Data Pre-Processing for Visualization"
   ]
  },
  {
   "cell_type": "markdown",
   "id": "c9c945fc",
   "metadata": {},
   "source": [
    "Let us first display the `df_transmission` dataframe and analyze the values to determine the required data pre-processing operations."
   ]
  },
  {
   "cell_type": "code",
   "execution_count": 10,
   "id": "460cf959",
   "metadata": {},
   "outputs": [
    {
     "data": {
      "text/html": [
       "<div>\n",
       "<style scoped>\n",
       "    .dataframe tbody tr th:only-of-type {\n",
       "        vertical-align: middle;\n",
       "    }\n",
       "\n",
       "    .dataframe tbody tr th {\n",
       "        vertical-align: top;\n",
       "    }\n",
       "\n",
       "    .dataframe thead th {\n",
       "        text-align: right;\n",
       "    }\n",
       "</style>\n",
       "<table border=\"1\" class=\"dataframe\">\n",
       "  <thead>\n",
       "    <tr style=\"text-align: right;\">\n",
       "      <th></th>\n",
       "      <th>count</th>\n",
       "      <th>mean</th>\n",
       "      <th>sum</th>\n",
       "    </tr>\n",
       "    <tr>\n",
       "      <th>transmission</th>\n",
       "      <th></th>\n",
       "      <th></th>\n",
       "      <th></th>\n",
       "    </tr>\n",
       "  </thead>\n",
       "  <tbody>\n",
       "    <tr>\n",
       "      <th>Automatic</th>\n",
       "      <td>669</td>\n",
       "      <td>16369.224215</td>\n",
       "      <td>10951011</td>\n",
       "    </tr>\n",
       "    <tr>\n",
       "      <th>Manual</th>\n",
       "      <td>3611</td>\n",
       "      <td>11059.049571</td>\n",
       "      <td>39934228</td>\n",
       "    </tr>\n",
       "    <tr>\n",
       "      <th>Other</th>\n",
       "      <td>2</td>\n",
       "      <td>14745.000000</td>\n",
       "      <td>29490</td>\n",
       "    </tr>\n",
       "    <tr>\n",
       "      <th>Semi-Auto</th>\n",
       "      <td>578</td>\n",
       "      <td>19119.217993</td>\n",
       "      <td>11050908</td>\n",
       "    </tr>\n",
       "  </tbody>\n",
       "</table>\n",
       "</div>"
      ],
      "text/plain": [
       "              count          mean       sum\n",
       "transmission                               \n",
       "Automatic       669  16369.224215  10951011\n",
       "Manual         3611  11059.049571  39934228\n",
       "Other             2  14745.000000     29490\n",
       "Semi-Auto       578  19119.217993  11050908"
      ]
     },
     "metadata": {},
     "output_type": "display_data"
    }
   ],
   "source": [
    "# Display Dataframe\n",
    "display(df_transmission)"
   ]
  },
  {
   "cell_type": "markdown",
   "id": "7ac26dc8",
   "metadata": {},
   "source": [
    "Upon inspection of the dataframed displayed above, we can find the required data pre-processing required before visualization as listed below.\n",
    "1. Displaying the top values of the features as a percentage of the total is more suitable and easily comparable instead of displaying the actual value counts as shown above. So we need to create a new column named `percentage` and calculate the percentage of the `count` values in each row for visualization purpose. Then we can drop the `count` column as we will no longer be needing the count values.\n",
    "2. The values in the `mean` column are showing too many digits after the decimal point. We can round the values to two decimal points for better visualization.\n",
    "3. The values in the `sum` column are too large for visualization. We can convert them to *Million Dollars* instead of *Dollars* before performing the visualization.\n",
    "4. Sort the dataframe in descending order based on the values in the `percentage` column"
   ]
  },
  {
   "cell_type": "markdown",
   "id": "b7e7f576",
   "metadata": {},
   "source": [
    "Since the pre-processing steps will be the same for all three of the dataframes, we can combine them into a function and apply the function to the dataframes."
   ]
  },
  {
   "cell_type": "markdown",
   "id": "58b9ef0b",
   "metadata": {},
   "source": [
    "##### Create a Function for Data Pre-Processing"
   ]
  },
  {
   "cell_type": "code",
   "execution_count": 11,
   "id": "2c4c27eb",
   "metadata": {},
   "outputs": [],
   "source": [
    "def preProcess(dataframe):\n",
    "    # Create a percentage column\n",
    "    dataframe['percentage'] = (dataframe['count']/dataframe['count'].sum())*100\n",
    "       \n",
    "    # Remove the count column\n",
    "    dataframe.drop('count', axis = 1, inplace = True)\n",
    "   \n",
    "    # Convert the sum values into millions\n",
    "    dataframe['sum'] = dataframe['sum']/1000000\n",
    "    \n",
    "    # Round the dataframe values to two decimal points\n",
    "    dataframe.update(dataframe.round(2))\n",
    "    \n",
    "    # Sort the dataframe based on percentage column\n",
    "    dataframe.sort_values(by = 'percentage', ascending = False, inplace = True)\n",
    "    \n",
    "    # Display the Dataframe\n",
    "    display(dataframe.head())"
   ]
  },
  {
   "cell_type": "markdown",
   "id": "7a3fe6a5",
   "metadata": {},
   "source": [
    "Now we can apply this function to all our dataframes by passing the dataframe names as the function argument individually and see the results below."
   ]
  },
  {
   "cell_type": "code",
   "execution_count": 12,
   "id": "5e72a7ed",
   "metadata": {},
   "outputs": [
    {
     "data": {
      "text/html": [
       "<div>\n",
       "<style scoped>\n",
       "    .dataframe tbody tr th:only-of-type {\n",
       "        vertical-align: middle;\n",
       "    }\n",
       "\n",
       "    .dataframe tbody tr th {\n",
       "        vertical-align: top;\n",
       "    }\n",
       "\n",
       "    .dataframe thead th {\n",
       "        text-align: right;\n",
       "    }\n",
       "</style>\n",
       "<table border=\"1\" class=\"dataframe\">\n",
       "  <thead>\n",
       "    <tr style=\"text-align: right;\">\n",
       "      <th></th>\n",
       "      <th>mean</th>\n",
       "      <th>sum</th>\n",
       "      <th>percentage</th>\n",
       "    </tr>\n",
       "    <tr>\n",
       "      <th>model</th>\n",
       "      <th></th>\n",
       "      <th></th>\n",
       "      <th></th>\n",
       "    </tr>\n",
       "  </thead>\n",
       "  <tbody>\n",
       "    <tr>\n",
       "      <th>Tucson</th>\n",
       "      <td>15818.71</td>\n",
       "      <td>20.56</td>\n",
       "      <td>26.75</td>\n",
       "    </tr>\n",
       "    <tr>\n",
       "      <th>I10</th>\n",
       "      <td>7741.87</td>\n",
       "      <td>8.45</td>\n",
       "      <td>22.47</td>\n",
       "    </tr>\n",
       "    <tr>\n",
       "      <th>I30</th>\n",
       "      <td>11609.56</td>\n",
       "      <td>6.22</td>\n",
       "      <td>11.03</td>\n",
       "    </tr>\n",
       "    <tr>\n",
       "      <th>I20</th>\n",
       "      <td>8810.72</td>\n",
       "      <td>4.37</td>\n",
       "      <td>10.21</td>\n",
       "    </tr>\n",
       "    <tr>\n",
       "      <th>Kona</th>\n",
       "      <td>15652.78</td>\n",
       "      <td>5.13</td>\n",
       "      <td>6.75</td>\n",
       "    </tr>\n",
       "  </tbody>\n",
       "</table>\n",
       "</div>"
      ],
      "text/plain": [
       "             mean    sum  percentage\n",
       "model                               \n",
       " Tucson  15818.71  20.56       26.75\n",
       " I10      7741.87   8.45       22.47\n",
       " I30     11609.56   6.22       11.03\n",
       " I20      8810.72   4.37       10.21\n",
       " Kona    15652.78   5.13        6.75"
      ]
     },
     "metadata": {},
     "output_type": "display_data"
    },
    {
     "data": {
      "text/html": [
       "<div>\n",
       "<style scoped>\n",
       "    .dataframe tbody tr th:only-of-type {\n",
       "        vertical-align: middle;\n",
       "    }\n",
       "\n",
       "    .dataframe tbody tr th {\n",
       "        vertical-align: top;\n",
       "    }\n",
       "\n",
       "    .dataframe thead th {\n",
       "        text-align: right;\n",
       "    }\n",
       "</style>\n",
       "<table border=\"1\" class=\"dataframe\">\n",
       "  <thead>\n",
       "    <tr style=\"text-align: right;\">\n",
       "      <th></th>\n",
       "      <th>mean</th>\n",
       "      <th>sum</th>\n",
       "      <th>percentage</th>\n",
       "    </tr>\n",
       "    <tr>\n",
       "      <th>transmission</th>\n",
       "      <th></th>\n",
       "      <th></th>\n",
       "      <th></th>\n",
       "    </tr>\n",
       "  </thead>\n",
       "  <tbody>\n",
       "    <tr>\n",
       "      <th>Manual</th>\n",
       "      <td>11059.05</td>\n",
       "      <td>39.93</td>\n",
       "      <td>74.30</td>\n",
       "    </tr>\n",
       "    <tr>\n",
       "      <th>Automatic</th>\n",
       "      <td>16369.22</td>\n",
       "      <td>10.95</td>\n",
       "      <td>13.77</td>\n",
       "    </tr>\n",
       "    <tr>\n",
       "      <th>Semi-Auto</th>\n",
       "      <td>19119.22</td>\n",
       "      <td>11.05</td>\n",
       "      <td>11.89</td>\n",
       "    </tr>\n",
       "    <tr>\n",
       "      <th>Other</th>\n",
       "      <td>14745.00</td>\n",
       "      <td>0.03</td>\n",
       "      <td>0.04</td>\n",
       "    </tr>\n",
       "  </tbody>\n",
       "</table>\n",
       "</div>"
      ],
      "text/plain": [
       "                  mean    sum  percentage\n",
       "transmission                             \n",
       "Manual        11059.05  39.93       74.30\n",
       "Automatic     16369.22  10.95       13.77\n",
       "Semi-Auto     19119.22  11.05       11.89\n",
       "Other         14745.00   0.03        0.04"
      ]
     },
     "metadata": {},
     "output_type": "display_data"
    },
    {
     "data": {
      "text/html": [
       "<div>\n",
       "<style scoped>\n",
       "    .dataframe tbody tr th:only-of-type {\n",
       "        vertical-align: middle;\n",
       "    }\n",
       "\n",
       "    .dataframe tbody tr th {\n",
       "        vertical-align: top;\n",
       "    }\n",
       "\n",
       "    .dataframe thead th {\n",
       "        text-align: right;\n",
       "    }\n",
       "</style>\n",
       "<table border=\"1\" class=\"dataframe\">\n",
       "  <thead>\n",
       "    <tr style=\"text-align: right;\">\n",
       "      <th></th>\n",
       "      <th>mean</th>\n",
       "      <th>sum</th>\n",
       "      <th>percentage</th>\n",
       "    </tr>\n",
       "    <tr>\n",
       "      <th>fuelType</th>\n",
       "      <th></th>\n",
       "      <th></th>\n",
       "      <th></th>\n",
       "    </tr>\n",
       "  </thead>\n",
       "  <tbody>\n",
       "    <tr>\n",
       "      <th>Petrol</th>\n",
       "      <td>10952.22</td>\n",
       "      <td>31.78</td>\n",
       "      <td>59.71</td>\n",
       "    </tr>\n",
       "    <tr>\n",
       "      <th>Diesel</th>\n",
       "      <td>14589.91</td>\n",
       "      <td>23.46</td>\n",
       "      <td>33.09</td>\n",
       "    </tr>\n",
       "    <tr>\n",
       "      <th>Hybrid</th>\n",
       "      <td>19223.27</td>\n",
       "      <td>6.71</td>\n",
       "      <td>7.18</td>\n",
       "    </tr>\n",
       "    <tr>\n",
       "      <th>Other</th>\n",
       "      <td>12800.00</td>\n",
       "      <td>0.01</td>\n",
       "      <td>0.02</td>\n",
       "    </tr>\n",
       "  </tbody>\n",
       "</table>\n",
       "</div>"
      ],
      "text/plain": [
       "              mean    sum  percentage\n",
       "fuelType                             \n",
       "Petrol    10952.22  31.78       59.71\n",
       "Diesel    14589.91  23.46       33.09\n",
       "Hybrid    19223.27   6.71        7.18\n",
       "Other     12800.00   0.01        0.02"
      ]
     },
     "metadata": {},
     "output_type": "display_data"
    }
   ],
   "source": [
    "# Pre-Process df_model\n",
    "preProcess(df_model)\n",
    "\n",
    "# Pre-Process df_transmission\n",
    "preProcess(df_transmission)\n",
    "\n",
    "# Pre-Process df_fuelType\n",
    "preProcess(df_fuelType)\n"
   ]
  },
  {
   "cell_type": "markdown",
   "id": "f5d929bf",
   "metadata": {},
   "source": [
    "Now our dataframes are ready for visualization."
   ]
  },
  {
   "cell_type": "markdown",
   "id": "c810ea1d",
   "metadata": {},
   "source": [
    "### Data Visualization"
   ]
  },
  {
   "cell_type": "markdown",
   "id": "61cf7b2f",
   "metadata": {},
   "source": [
    "The data visualization process consists of some steps to achieve the desired output. The steps involved can be summarized as follows.\n",
    "\n",
    "1. Set up the visualization context and style.\n",
    "2. In case of multiple visualizations, create a figure with appropriate size and include the visualizations as subplots on the figure.\n",
    "3. Provide a Central Title for the visualizations.\n",
    "4. Set the location on the figure for a new visualization\n",
    "5. Create the individual visualization\n",
    "    - Provide `x-axis` and `y-axis` data sources along with the `dataframe`\n",
    "    - Provide appropriate orientation and colors (if required)\n",
    "    - Provide appropriate title for the subplot\n",
    "    - Provide appropriate axis labels\n",
    "6. Adjust the subplot layouts.\n",
    "7. Finally, display the visualization"
   ]
  },
  {
   "cell_type": "markdown",
   "id": "025f8754",
   "metadata": {},
   "source": [
    "We can see from the steps listed above that we will be repeating step 5 for each new visualization in our notebook. Hence we can create a function to take care of this step as follows."
   ]
  },
  {
   "cell_type": "code",
   "execution_count": 13,
   "id": "0141c6b5",
   "metadata": {},
   "outputs": [],
   "source": [
    "# Create a custom function for creating a BarPlot\n",
    "def customBarPlot(data=None, x=None, y=None, orient=None, color=None, title=None, xlabel=None, ylabel=None):\n",
    "    sns.barplot(x = x, y = y, data = data, orient = orient, color = color)\n",
    "    plt.title(title)\n",
    "    plt.xlabel(xlabel)\n",
    "    plt.ylabel(ylabel)"
   ]
  },
  {
   "cell_type": "markdown",
   "id": "a7433b80",
   "metadata": {},
   "source": [
    "Now we can use the `customBarPlot()` function to create our individual visualizations.\n",
    "\n",
    "We will be creating a total of 9 barplots in a 3x3 pattern contained in a tight layout on a single plot figure using the top 5 values from our dataframes. The following lines of codes will now create our desired visualizations.\n",
    "\n",
    "Note that, since we will use only the top 5 values from our sorted dataframes, we will be using the `dataframe.head()` command for passing in the dataframe and the values in our visualization functions."
   ]
  },
  {
   "cell_type": "code",
   "execution_count": 14,
   "id": "3d4cbc9f",
   "metadata": {},
   "outputs": [
    {
     "data": {
      "text/html": [
       "<div>\n",
       "<style scoped>\n",
       "    .dataframe tbody tr th:only-of-type {\n",
       "        vertical-align: middle;\n",
       "    }\n",
       "\n",
       "    .dataframe tbody tr th {\n",
       "        vertical-align: top;\n",
       "    }\n",
       "\n",
       "    .dataframe thead th {\n",
       "        text-align: right;\n",
       "    }\n",
       "</style>\n",
       "<table border=\"1\" class=\"dataframe\">\n",
       "  <thead>\n",
       "    <tr style=\"text-align: right;\">\n",
       "      <th></th>\n",
       "      <th>mean</th>\n",
       "      <th>sum</th>\n",
       "      <th>percentage</th>\n",
       "    </tr>\n",
       "    <tr>\n",
       "      <th>model</th>\n",
       "      <th></th>\n",
       "      <th></th>\n",
       "      <th></th>\n",
       "    </tr>\n",
       "  </thead>\n",
       "  <tbody>\n",
       "    <tr>\n",
       "      <th>Getz</th>\n",
       "      <td>1927.50</td>\n",
       "      <td>0.01</td>\n",
       "      <td>0.12</td>\n",
       "    </tr>\n",
       "    <tr>\n",
       "      <th>Veloster</th>\n",
       "      <td>7031.67</td>\n",
       "      <td>0.02</td>\n",
       "      <td>0.06</td>\n",
       "    </tr>\n",
       "    <tr>\n",
       "      <th>Terracan</th>\n",
       "      <td>3092.50</td>\n",
       "      <td>0.01</td>\n",
       "      <td>0.04</td>\n",
       "    </tr>\n",
       "    <tr>\n",
       "      <th>Accent</th>\n",
       "      <td>1295.00</td>\n",
       "      <td>0.00</td>\n",
       "      <td>0.02</td>\n",
       "    </tr>\n",
       "    <tr>\n",
       "      <th>Amica</th>\n",
       "      <td>1750.00</td>\n",
       "      <td>0.00</td>\n",
       "      <td>0.02</td>\n",
       "    </tr>\n",
       "  </tbody>\n",
       "</table>\n",
       "</div>"
      ],
      "text/plain": [
       "              mean   sum  percentage\n",
       "model                               \n",
       " Getz      1927.50  0.01        0.12\n",
       " Veloster  7031.67  0.02        0.06\n",
       " Terracan  3092.50  0.01        0.04\n",
       " Accent    1295.00  0.00        0.02\n",
       " Amica     1750.00  0.00        0.02"
      ]
     },
     "metadata": {},
     "output_type": "display_data"
    }
   ],
   "source": [
    "display(df_model.tail())"
   ]
  },
  {
   "cell_type": "code",
   "execution_count": 15,
   "id": "7e0b0add",
   "metadata": {},
   "outputs": [
    {
     "data": {
      "image/png": "[encoded data removed]",
      "text/plain": [
       "<Figure size 1296x1296 with 9 Axes>"
      ]
     },
     "metadata": {},
     "output_type": "display_data"
    }
   ],
   "source": [
    "# Set up the visualization context and style\n",
    "sns.set_context(\"notebook\", font_scale = 1.25)\n",
    "sns.set_style(\"darkgrid\")\n",
    "\n",
    "# Create a figure\n",
    "plt.figure(figsize = (18,18))\n",
    "\n",
    "# Provide a Central Title for the figure and adjust the subplot layouts\n",
    "plt.suptitle(\"Hyundai Used Cars Data Analysis and Visualization\")\n",
    "\n",
    "# Create Barplot in Position: 1 Based on Model showing values for Percentage\n",
    "plt.subplot(3, 3, 1)\n",
    "customBarPlot(data = df_model,\n",
    "             x = 'percentage',\n",
    "             y = df_model.index,\n",
    "             orient = 'h',\n",
    "             color = 'grey',\n",
    "             title = \"Top selling cars based on Model\",\n",
    "             xlabel = \"Percentage of cars (%)\",\n",
    "             ylabel = \"Car Model\")\n",
    "\n",
    "# Create Barplot in Position: 2 Based on Model showing values for average selling price\n",
    "plt.subplot(3, 3, 2)\n",
    "customBarPlot(data = df_model,\n",
    "             x = 'mean',\n",
    "             y = df_model.index,\n",
    "             orient = 'h',\n",
    "             color = 'orange',\n",
    "             title = \"Average selling price based on Model\",\n",
    "             xlabel = \"Average Selling Price ($)\",\n",
    "             ylabel = \"\")\n",
    "\n",
    "# Create Barplot in Position: 3 Based on Model showing values for total sales\n",
    "plt.subplot(3, 3, 3)\n",
    "customBarPlot(data = df_model,\n",
    "             x = 'sum',\n",
    "             y = df_model.index,\n",
    "             orient = 'h',\n",
    "             color = 'green',\n",
    "             title = \"Total sales price based on Model\",\n",
    "             xlabel = \"Total Sales Price (million $)\",\n",
    "             ylabel = \"\")\n",
    "\n",
    "# Create Barplot in Position: 4 Based on Transmission Type showing values for Percentage\n",
    "plt.subplot(3, 3, 4)\n",
    "customBarPlot(data = df_transmission,\n",
    "             x = 'percentage',\n",
    "             y = df_transmission.index,\n",
    "             orient = 'h',\n",
    "             color = 'grey',\n",
    "             title = \"Top selling cars based on Transmission Type\",\n",
    "             xlabel = \"Percentage of cars (%)\",\n",
    "             ylabel = \"Transmission Type\")\n",
    "\n",
    "# Create Barplot in Position: 5 Based on Transmission Type showing values for average selling price\n",
    "plt.subplot(3, 3, 5)\n",
    "customBarPlot(data = df_transmission,\n",
    "             x = 'mean',\n",
    "             y = df_transmission.index,\n",
    "             orient = 'h',\n",
    "             color = 'orange',\n",
    "             title = \"Average selling price based on Transmission Type\",\n",
    "             xlabel = \"Average Selling Price ($)\",\n",
    "             ylabel = \"\")\n",
    "\n",
    "# Create Barplot in Position: 6 Based on Transmission Type showing values for total sales\n",
    "plt.subplot(3, 3, 6)\n",
    "customBarPlot(data = df_transmission,\n",
    "             x = 'sum',\n",
    "             y = df_transmission.index,\n",
    "             orient = 'h',\n",
    "             color = 'green',\n",
    "             title = \"Total sales price based on Transmission Type\",\n",
    "             xlabel = \"Total Sales Price (million $)\",\n",
    "             ylabel = \"\")\n",
    "\n",
    "# Create Barplot in Position: 7 Based on Fuel Type showing values for Percentage\n",
    "plt.subplot(3, 3, 7)\n",
    "customBarPlot(data = df_fuelType,\n",
    "             x = 'percentage',\n",
    "             y = df_fuelType.index,\n",
    "             orient = 'h',\n",
    "             color = 'grey',\n",
    "             title = \"Top selling cars based on Fuel Type\",\n",
    "             xlabel = \"Percentage of cars (%)\",\n",
    "             ylabel = \"Fuel Type\")\n",
    "\n",
    "# Create Barplot in Position: 8 Based on Fuel Type showing values for average selling price\n",
    "plt.subplot(3, 3, 8)\n",
    "customBarPlot(data = df_fuelType,\n",
    "             x = 'mean',\n",
    "             y = df_fuelType.index,\n",
    "             orient = 'h',\n",
    "             color = 'orange',\n",
    "             title = \"Average selling price based on Fuel Type\",\n",
    "             xlabel = \"Average Selling Price ($)\",\n",
    "             ylabel = \"\")\n",
    "\n",
    "# Create Barplot in Position: 9 Based on Fuel Type showing values for total sales\n",
    "plt.subplot(3, 3, 9)\n",
    "customBarPlot(data = df_fuelType,\n",
    "             x = 'sum',\n",
    "             y = df_fuelType.index,\n",
    "             orient = 'h',\n",
    "             color = 'green',\n",
    "             title = \"Total sales price based on Fuel Type\",\n",
    "             xlabel = \"Total Sales Price (million $)\",\n",
    "             ylabel = \"\")\n",
    "\n",
    "# sns.barplot(x = 'percentage', y = df_model.index, data = df_model, orient = 'h', color = 'black')\n",
    "\n",
    "# Adjust the subplot layouts\n",
    "plt.tight_layout()\n",
    "\n",
    "# Display the visualization\n",
    "plt.show()"
   ]
  },
  {
   "cell_type": "markdown",
   "id": "1e2f9978",
   "metadata": {},
   "source": [
    "The figure above visually answers the questions set out before the EDA for the top 5 values (where more than 5) of the control feature in question as barplots with appropriate labels added to them."
   ]
  }
 ],
 "metadata": {
  "kernelspec": {
   "display_name": "Python 3",
   "language": "python",
   "name": "python3"
  },
  "language_info": {
   "codemirror_mode": {
    "name": "ipython",
    "version": 3
   },
   "file_extension": ".py",
   "mimetype": "text/x-python",
   "name": "python",
   "nbconvert_exporter": "python",
   "pygments_lexer": "ipython3",
   "version": "3.8.8"
  }
 },
 "nbformat": 4,
 "nbformat_minor": 5
}
